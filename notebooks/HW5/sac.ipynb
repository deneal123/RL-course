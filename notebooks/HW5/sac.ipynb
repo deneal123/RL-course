{
 "cells": [
  {
   "cell_type": "code",
   "execution_count": 1,
   "id": "0ea24168-bb5f-44e5-9dc9-8bd91647f245",
   "metadata": {},
   "outputs": [
    {
     "name": "stdout",
     "output_type": "stream",
     "text": [
      "bash: ../xvfb: No such file or directory\n"
     ]
    }
   ],
   "source": [
    "import sys, os\n",
    "# if 'google.colab' in sys.modules and not os.path.exists('.setup_complete'):\n",
    "#     !wget -q https://raw.githubusercontent.com/yandexdataschool/Practical_RL/master/setup_colab.sh -O- | bash\n",
    "\n",
    "#     !wget -q https://raw.githubusercontent.com/yandexdataschool/Practical_RL/master/week09_policy_II/td3_and_sac/logger.py\n",
    "\n",
    "#     !pip -q install gymnasium[mujoco]==1.0.0\n",
    "#     !pip -q install tensorboardX\n",
    "\n",
    "#     !touch .setup_complete\n",
    "\n",
    "# This code creates a virtual display to draw game images on.\n",
    "# It will have no effect if your machine has a monitor.\n",
    "if type(os.environ.get(\"DISPLAY\")) is not str or len(os.environ.get(\"DISPLAY\")) == 0:\n",
    "    !bash ../xvfb start\n",
    "    os.environ['DISPLAY'] = ':1'"
   ]
  },
  {
   "cell_type": "markdown",
   "id": "2394729e-37a1-412e-860e-c97a7e7fed68",
   "metadata": {},
   "source": [
    "# Continuous Control\n",
    "\n",
    "\n",
    "In this notebook you will solve continuous control environment using [Soft Actor-Critic (SAC)](https://arxiv.org/pdf/1801.01290.pdf). It's an off-policy algorith that is still go-to algorithm for continuous control tasks.\n",
    "\n",
    "SAC is an extension extensions of basic [Deep Deterministic Policy Gradient (DDPG)](https://arxiv.org/abs/1509.02971) algorithm, and DDPG is kind of \"DQN with another neural net approximating greedy policy\".\n",
    "\n",
    "There is a set of stabilization tricks:\n",
    "* SAC uses *stochastic policy*. This means that for SAC you can solve exploration-exploitation trade-off by simple sampling from policy.\n",
    "* In SAC, we formally switch to formalism of Maximum Entropy RL and add *entropy bonus* into our value function.\n",
    "\n",
    "More detailed description of algorithms can be found in Spinning Up documentation:\n",
    "\n",
    "* on [SAC](https://spinningup.openai.com/en/latest/algorithms/sac.html)"
   ]
  },
  {
   "cell_type": "markdown",
   "id": "5d9ad84d-868c-4c8c-9e3f-d79f578abf22",
   "metadata": {},
   "source": [
    "## Environment"
   ]
  },
  {
   "cell_type": "code",
   "execution_count": 3,
   "id": "18fefefe-5bee-47b5-a90c-87fb71ffa057",
   "metadata": {},
   "outputs": [],
   "source": [
    "import gymnasium as gym\n",
    "import numpy as np"
   ]
  },
  {
   "cell_type": "markdown",
   "id": "582a5ac8-c3b1-4736-84b9-08ad6419e399",
   "metadata": {},
   "source": [
    "First, we will create an instance of the environment."
   ]
  },
  {
   "cell_type": "code",
   "execution_count": 4,
   "id": "c66206bf-34b0-4ac2-b7e4-f5886abb795f",
   "metadata": {},
   "outputs": [
    {
     "name": "stdout",
     "output_type": "stream",
     "text": [
      "observation space:  Box(-inf, inf, (27,), float64) \n",
      "observations: [ 0.79160234  0.94467108  0.04108704 -0.09222022  0.01029669  0.04191565\n",
      "  0.01418152 -0.01884972  0.0530592  -0.0819002   0.05447867 -0.08995996\n",
      " -0.04404703 -0.11271259  0.08106668  0.09212176 -0.07638606 -0.12258301\n",
      "  0.28846584  0.00921885 -0.11574085 -0.06151847 -0.02431813  0.09199274\n",
      "  0.00781637 -0.0519986   0.0335776 ]\n",
      "action space:  Box(-1.0, 1.0, (8,), float32) \n",
      "action_sample:  [ 0.6904991   0.44510958 -0.74687153 -0.60203505  0.6995834  -0.16711392\n",
      " -0.36310288  0.57634574]\n"
     ]
    }
   ],
   "source": [
    "env = gym.make(\"Ant-v5\", render_mode=\"rgb_array\", include_cfrc_ext_in_observation=False)\n",
    "\n",
    "# we want to look inside\n",
    "env.reset()\n",
    "\n",
    "# examples of states and actions\n",
    "print(\"observation space: \", env.observation_space,\n",
    "      \"\\nobservations:\", env.reset()[0])\n",
    "print(\"action space: \", env.action_space,\n",
    "      \"\\naction_sample: \", env.action_space.sample())"
   ]
  },
  {
   "cell_type": "code",
   "execution_count": 5,
   "id": "939627fb-cd32-4a2f-87a7-f475b2531fa7",
   "metadata": {},
   "outputs": [],
   "source": [
    "import matplotlib.pyplot as plt\n",
    "\n",
    "# plt.imshow(env.render())"
   ]
  },
  {
   "cell_type": "markdown",
   "id": "7f361acc-b290-493b-b8ba-9890605a553d",
   "metadata": {},
   "source": [
    "Let's run random policy and see how it looks."
   ]
  },
  {
   "cell_type": "code",
   "execution_count": 6,
   "id": "c9aa9b95-4aab-4fd2-a364-8d1b0ef7032d",
   "metadata": {},
   "outputs": [],
   "source": [
    "class RandomActor():\n",
    "    def get_action(self, states):\n",
    "        assert len(states.shape) == 1, \"can't work with batches\"\n",
    "        return env.action_space.sample()"
   ]
  },
  {
   "cell_type": "code",
   "execution_count": 7,
   "id": "4e787462-5269-410b-85e0-ccd88e04dd46",
   "metadata": {},
   "outputs": [
    {
     "name": "stdout",
     "output_type": "stream",
     "text": [
      "done:  185\n",
      "done:  200\n",
      "done:  304\n",
      "done:  357\n",
      "done:  443\n",
      "done:  1443\n",
      "done:  2443\n",
      "done:  3443\n",
      "done:  3496\n",
      "done:  3626\n",
      "done:  3730\n",
      "done:  3807\n",
      "done:  3912\n",
      "done:  3954\n",
      "done:  4013\n",
      "done:  4028\n",
      "done:  4086\n",
      "done:  4128\n",
      "done:  4171\n",
      "done:  4211\n",
      "done:  4355\n",
      "done:  4499\n",
      "done:  5499\n",
      "done:  5628\n",
      "done:  5688\n",
      "done:  6688\n",
      "done:  6739\n",
      "done:  6785\n",
      "done:  6803\n",
      "done:  6828\n",
      "done:  7828\n",
      "done:  7960\n",
      "done:  8085\n",
      "done:  8133\n",
      "done:  8278\n",
      "done:  8393\n",
      "done:  8425\n",
      "done:  8447\n",
      "done:  8550\n",
      "done:  8571\n",
      "done:  9571\n",
      "done:  9642\n",
      "done:  9728\n",
      "done:  9873\n",
      "done:  9925\n",
      "done:  9979\n"
     ]
    }
   ],
   "source": [
    "s, _ = env.reset()\n",
    "rewards_per_step = []\n",
    "actor = RandomActor()\n",
    "\n",
    "for i in range(10000):\n",
    "    a = actor.get_action(s)\n",
    "    s, r, terminated, truncated, _ = env.step(a)\n",
    "\n",
    "    rewards_per_step.append(r)\n",
    "\n",
    "    if terminated or truncated:\n",
    "        s, _ = env.reset()\n",
    "        print(\"done: \", i)"
   ]
  },
  {
   "cell_type": "markdown",
   "id": "ebf60271-5cf4-44a3-a74d-f482e13663e0",
   "metadata": {},
   "source": [
    "So, basically most episodes are 1000 steps long (then happens termination by time), though sometimes we are terminated earlier if simulation discovers some obvious reasons to think that we crashed our ant. Important thing about continuous control tasks like this is that we receive non-trivial signal at each step:"
   ]
  },
  {
   "cell_type": "code",
   "execution_count": 8,
   "id": "8391d1d8-be61-4130-a3c8-d09bfdfecd4c",
   "metadata": {},
   "outputs": [
    {
     "data": {
      "text/plain": [
       "[np.float64(-1.5474917421514425),\n",
       " np.float64(-1.6234666035579828),\n",
       " np.float64(-1.4907385174740648),\n",
       " np.float64(-0.488448198392502),\n",
       " np.float64(-0.7282749446683316),\n",
       " np.float64(-0.9943185440356468),\n",
       " np.float64(-0.43155368802254235),\n",
       " np.float64(-1.3041101281395913),\n",
       " np.float64(-0.7721030898797256),\n",
       " np.float64(-0.15911321185094507)]"
      ]
     },
     "execution_count": 8,
     "metadata": {},
     "output_type": "execute_result"
    }
   ],
   "source": [
    "rewards_per_step[100:110]"
   ]
  },
  {
   "cell_type": "markdown",
   "id": "007995f7-13bc-45d6-92cb-b8350aad037b",
   "metadata": {},
   "source": [
    "This dense signal will guide our optimizations. It also partially explains why off-policy algorithms are more effective and sample-efficient than on-policy algorithms like PPO: 1-step targets are already quite informative."
   ]
  },
  {
   "cell_type": "code",
   "execution_count": 9,
   "id": "7e568203-aed6-4aa4-a382-8bf9528c408e",
   "metadata": {},
   "outputs": [],
   "source": [
    "env.close()"
   ]
  },
  {
   "cell_type": "markdown",
   "id": "a262f5d3-3324-4bc2-a92a-2b5dfcfb5b6c",
   "metadata": {},
   "source": [
    "We will add only one wrapper to our environment to simply write summaries, mainly, the total reward during an episode."
   ]
  },
  {
   "cell_type": "code",
   "execution_count": 10,
   "id": "c72b12a5-78cd-4325-b8ca-310fe9e0fe4f",
   "metadata": {},
   "outputs": [
    {
     "name": "stdout",
     "output_type": "stream",
     "text": [
      "State dimension: 27, Action dimension: 8\n"
     ]
    }
   ],
   "source": [
    "import gymnasium as gym\n",
    "from torch.utils.tensorboard import SummaryWriter\n",
    "\n",
    "# Создаем среду Gym\n",
    "env = gym.make(\"Ant-v5\", render_mode=\"rgb_array\", include_cfrc_ext_in_observation=False)\n",
    "\n",
    "# Создаем объект TensorBoard SummaryWriter\n",
    "writer = SummaryWriter(log_dir=\"logs\")\n",
    "\n",
    "# Получаем размерности пространства состояний и действий\n",
    "state_dim = env.observation_space.shape[0]  # dimension of state space (27 numbers)\n",
    "action_dim = env.action_space.shape[0]    # dimension of action space (8 numbers)\n",
    "\n",
    "print(f\"State dimension: {state_dim}, Action dimension: {action_dim}\")\n",
    "\n",
    "# Не забудьте закрыть среду после использования\n",
    "env.close()\n",
    "writer.close()"
   ]
  },
  {
   "cell_type": "markdown",
   "id": "1c5cc300-fcfe-4d4e-a567-cc0dd609bbb9",
   "metadata": {},
   "source": [
    "## Models"
   ]
  },
  {
   "cell_type": "markdown",
   "id": "6ee6c7ee-de17-4382-b796-1c6057aca000",
   "metadata": {},
   "source": [
    "Let's start with *critic* model. On the one hand, it will function as an approximation of $Q^*(s, a)$, on the other hand it evaluates current actor $\\pi$ and can be viewed as $Q^{\\pi}(s, a)$. This critic will take both state $s$ and action $a$ as input and output a scalar value. Recommended architecture is 3-layered MLP.\n",
    "\n",
    "**Danger:** when models have a scalar output it is a good rule to squeeze it to avoid unexpected broadcasting, since [batch_size, 1] broadcasts with many tensor sizes."
   ]
  },
  {
   "cell_type": "code",
   "execution_count": 11,
   "id": "ed4b7e32-2c71-4ec2-b0f7-74ff7246c626",
   "metadata": {},
   "outputs": [],
   "source": [
    "import torch\n",
    "import torch.nn as nn\n",
    "DEVICE = \"cuda\" if torch.cuda.is_available() else \"cpu\"\n",
    "\n",
    "class Critic(nn.Module):\n",
    "    def __init__(self, state_dim: int, action_dim: int):\n",
    "        super().__init__()\n",
    "        self.model = nn.Sequential(\n",
    "            nn.Linear(state_dim + action_dim, 256),\n",
    "            nn.ReLU(),\n",
    "            nn.Linear(256, 256),\n",
    "            nn.ReLU(),\n",
    "            nn.Linear(256, 1)\n",
    "        )\n",
    "\n",
    "    def get_qvalues(self, states: torch.Tensor, actions: torch.Tensor) -> torch.Tensor:\n",
    "        x = torch.cat([states, actions], dim=-1)\n",
    "        qvalues = self.model(x).squeeze(-1)\n",
    "        assert len(qvalues.shape) == 1 and qvalues.shape[0] == states.shape[0]\n",
    "        return qvalues"
   ]
  },
  {
   "cell_type": "markdown",
   "id": "80bd98bd-3352-4e7e-a727-7f89d1738fc9",
   "metadata": {},
   "source": [
    "Next, let's define a policy, or an actor $\\pi$. Use architecture, similar to critic (3-layered MLP)."
   ]
  },
  {
   "cell_type": "markdown",
   "id": "2d7bf4cf-caf9-4738-a542-1f1a32e7973a",
   "metadata": {},
   "source": [
    "For **SAC**, model *gaussian policy*. This means policy distribution is going to be multivariate normal with diagonal covariance. The policy head will predict the mean and covariance, and it should be guaranteed that covariance is non-negative. **Important:** the way you model covariance strongly influences optimization procedure, so here are some options: let $f_{\\theta}$ be the output of covariance head, then:\n",
    "* `softplus` operation $\\sigma(s) = \\log(1 + \\exp({f_{\\theta}(s)}))$.\n",
    "\n",
    "**Note**: `torch.distributions.Normal` already has everything you will need to work with such policy after you modeled mean and covariance, i.e. sampling via reparametrization trick (see `rsample` method) and compute log probability (see `log_prob` method).\n",
    "\n",
    "There is one more problem with gaussian distribution. We need to force our actions to be in $[-1, 1]$ bound. To achieve this, model unbounded gaussian $\\mathcal{N}(\\mu_{\\theta}(s), \\sigma_{\\theta}(s)^2I)$, where $\\mu$ can be arbitrary. Then every time you have samples $u$ from this gaussian policy, squash it using $\\operatorname{tanh}$ function to get a sample from $[-1, 1]$:\n",
    "$$u \\sim \\mathcal{N}(\\mu, \\sigma^2I)$$\n",
    "$$a = \\operatorname{tanh}(u)$$\n",
    "\n",
    "**Important:** after that you are required to use change of variable formula every time you compute likelihood (see appendix C in [paper on SAC](https://arxiv.org/pdf/1801.01290.pdf) for details):\n",
    "$$\\log p(a \\mid \\mu, \\sigma) = \\log p(u \\mid \\mu, \\sigma) - \\sum_{i = 1}^D \\log (1 - \\operatorname{tanh}^2(u_i)),$$\n",
    "where $D$ is `action_dim`. In practice, add something like 1e-6 inside logarithm to protect from computational instabilities."
   ]
  },
  {
   "cell_type": "code",
   "execution_count": 13,
   "id": "a1174021-b4a8-435d-8c3e-d91108143101",
   "metadata": {},
   "outputs": [],
   "source": [
    "# template for SAC\n",
    "from torch.distributions import Normal\n",
    "\n",
    "class Actor(nn.Module):\n",
    "    def __init__(self, state_dim: int, action_dim: int):\n",
    "        super().__init__()\n",
    "        self.base = nn.Sequential(\n",
    "            nn.Linear(state_dim, 256),\n",
    "            nn.ReLU(),\n",
    "            nn.Linear(256, 256),\n",
    "            nn.ReLU()\n",
    "        )\n",
    "        self.mean_head = nn.Linear(256, action_dim)\n",
    "        self.log_std_head = nn.Linear(256, action_dim)\n",
    "\n",
    "    def apply(self, states: torch.Tensor):\n",
    "        x = self.base(states)\n",
    "        mean = self.mean_head(x)\n",
    "        log_std = self.log_std_head(x).clamp(-20, 2)\n",
    "        std = torch.exp(log_std)\n",
    "        dist = Normal(mean, std)\n",
    "        u = dist.rsample()\n",
    "        actions = torch.tanh(u)\n",
    "        # Corrected line: sum log_prob along the action dimension\n",
    "        log_prob = dist.log_prob(u).sum(dim=-1) - torch.log(1 - actions.pow(2) + 1e-6).sum(dim=-1)\n",
    "        return actions, log_prob\n",
    "\n",
    "    def get_action(self, states: np.ndarray, deterministic: bool = False) -> np.ndarray:\n",
    "        with torch.no_grad():\n",
    "            states = torch.tensor(states, dtype=torch.float32, device=DEVICE)\n",
    "            if not isinstance(states, torch.Tensor):\n",
    "                states = torch.FloatTensor(states).to(DEVICE)\n",
    "            \n",
    "            if len(states.shape) == 1:\n",
    "                states = states.unsqueeze(0)\n",
    "                \n",
    "            x = self.base(states)\n",
    "            mean = self.mean_head(x)\n",
    "            \n",
    "            if deterministic:\n",
    "                # For deterministic policy, just use the mean\n",
    "                actions = torch.tanh(mean)\n",
    "            else:\n",
    "                # For stochastic policy, sample from the distribution\n",
    "                log_std = self.log_std_head(x).clamp(-20, 2)\n",
    "                std = torch.exp(log_std)\n",
    "                dist = Normal(mean, std)\n",
    "                u = dist.rsample()\n",
    "                actions = torch.tanh(u)\n",
    "            \n",
    "            actions = actions.cpu().numpy()\n",
    "            \n",
    "            if len(actions.shape) == 2 and actions.shape[0] == 1:\n",
    "                actions = actions.squeeze(0)\n",
    "                \n",
    "        assert isinstance(actions, np.ndarray) and actions.max() <= 1. and actions.min() >= -1\n",
    "        return actions"
   ]
  },
  {
   "cell_type": "markdown",
   "id": "1985e6aa-6d3a-43b0-ba78-dc4fa4ee7cb7",
   "metadata": {},
   "source": [
    "## ReplayBuffer\n",
    "\n",
    "The same as in DQN. You can copy code from your DQN assignment, just check that it works fine with continuous actions (probably it is).\n",
    "\n",
    "Let's recall the interface:\n",
    "* `exp_replay.add(obs, act, rw, next_obs, done)` - saves (s,a,r,s',done) tuple into the buffer\n",
    "* `exp_replay.sample(batch_size)` - returns observations, actions, rewards, next_observations and is_done for `batch_size` random samples.\n",
    "* `len(exp_replay)` - returns number of elements stored in replay buffer."
   ]
  },
  {
   "cell_type": "code",
   "execution_count": 15,
   "id": "23bf583d-0d6f-4033-a2c2-b1ce43d24427",
   "metadata": {},
   "outputs": [],
   "source": [
    "class ReplayBuffer:\n",
    "    def __init__(self, size: int):\n",
    "        self._storage = deque(maxlen=size)\n",
    "        self._maxsize = size\n",
    "\n",
    "    def __len__(self) -> int:\n",
    "        return len(self._storage)\n",
    "\n",
    "    def add(self, obs_t: np.ndarray, action: np.ndarray, reward: float, obs_tp1: np.ndarray, done: bool):\n",
    "        data = (obs_t, action, reward, obs_tp1, done)\n",
    "        self._storage.append(data)\n",
    "\n",
    "    def sample(self, batch_size: int):\n",
    "        indices = random.sample(range(len(self._storage)), batch_size)\n",
    "        batch = [self._storage[idx] for idx in indices]\n",
    "        obs_batch, act_batch, rew_batch, next_obs_batch, done_batch = zip(*batch)\n",
    "        return (\n",
    "            np.array(obs_batch),\n",
    "            np.array(act_batch),\n",
    "            np.array(rew_batch),\n",
    "            np.array(next_obs_batch),\n",
    "            np.array(done_batch, dtype=np.float32)\n",
    "        )"
   ]
  },
  {
   "cell_type": "code",
   "execution_count": 16,
   "id": "347223e2-a4b1-4d44-8044-35cc5ade8271",
   "metadata": {},
   "outputs": [],
   "source": [
    "from collections import deque\n",
    "import random\n",
    "\n",
    "exp_replay = ReplayBuffer(10)\n",
    "\n",
    "for _ in range(30):\n",
    "    exp_replay.add(env.reset()[0], env.action_space.sample(),\n",
    "                   1.0, env.reset()[0], done=False)\n",
    "\n",
    "obs_batch, act_batch, reward_batch, next_obs_batch, is_done_batch = exp_replay.sample(\n",
    "    5)\n",
    "\n",
    "assert len(exp_replay) == 10, \"experience replay size should be 10 because that's what maximum capacity is\""
   ]
  },
  {
   "cell_type": "code",
   "execution_count": 17,
   "id": "c6931be2-c343-4bc3-9758-670f87477750",
   "metadata": {},
   "outputs": [],
   "source": [
    "def play_and_record(initial_state: np.ndarray, agent: Actor, env: gym.Env, exp_replay: ReplayBuffer, n_steps: int = 1):\n",
    "    s = initial_state\n",
    "    sum_rewards = 0\n",
    "    for _ in range(n_steps):\n",
    "        a = agent.get_action(s)\n",
    "        ns, r, terminated, truncated, _ = env.step(a)\n",
    "        exp_replay.add(s, a, r, ns, terminated or truncated)\n",
    "        s = env.reset()[0] if terminated or truncated else ns\n",
    "        sum_rewards += r\n",
    "    return sum_rewards, s"
   ]
  },
  {
   "cell_type": "code",
   "execution_count": 18,
   "id": "6f491321-66d6-473c-87bc-e00e5bfc229e",
   "metadata": {},
   "outputs": [
    {
     "name": "stdout",
     "output_type": "stream",
     "text": [
      "Well done!\n"
     ]
    }
   ],
   "source": [
    "#testing your code.\n",
    "exp_replay = ReplayBuffer(2000)\n",
    "actor = Actor(state_dim, action_dim).to(DEVICE)\n",
    "\n",
    "state, _ = env.reset()\n",
    "play_and_record(state, actor, env, exp_replay, n_steps=1000)\n",
    "\n",
    "# if you're using your own experience replay buffer, some of those tests may need correction.\n",
    "# just make sure you know what your code does\n",
    "assert len(exp_replay) == 1000, \"play_and_record should have added exactly 1000 steps, \"\\\n",
    "                                 \"but instead added %i\" % len(exp_replay)\n",
    "is_dones = list(zip(*exp_replay._storage))[-1]\n",
    "\n",
    "for _ in range(100):\n",
    "    obs_batch, act_batch, reward_batch, next_obs_batch, is_done_batch = exp_replay.sample(\n",
    "        10)\n",
    "    assert obs_batch.shape == next_obs_batch.shape == (10,) + (state_dim,)\n",
    "    assert act_batch.shape == (\n",
    "        10, action_dim), \"actions batch should have shape (10, 8) but is instead %s\" % str(act_batch.shape)\n",
    "    assert reward_batch.shape == (\n",
    "        10,), \"rewards batch should have shape (10,) but is instead %s\" % str(reward_batch.shape)\n",
    "    assert is_done_batch.shape == (\n",
    "        10,), \"is_done batch should have shape (10,) but is instead %s\" % str(is_done_batch.shape)\n",
    "    assert [int(i) in (0, 1)\n",
    "            for i in is_dones], \"is_done should be strictly True or False\"\n",
    "\n",
    "print(\"Well done!\")"
   ]
  },
  {
   "cell_type": "markdown",
   "id": "b2c670be-3042-4896-b4e9-bc214c62e852",
   "metadata": {},
   "source": [
    "## Initialization\n",
    "\n",
    "Let's start initializing our algorithm. Here is our hyperparameters:"
   ]
  },
  {
   "cell_type": "code",
   "execution_count": 19,
   "id": "d0f1c909-e8d4-4129-a73b-cfe7e566017a",
   "metadata": {},
   "outputs": [],
   "source": [
    "gamma=0.99                    # discount factor\n",
    "max_buffer_size = 10**5       # size of experience replay\n",
    "start_timesteps = 5000        # size of experience replay when start training\n",
    "timesteps_per_epoch=1         # steps in environment per step of network updates\n",
    "batch_size=128                # batch size for all optimizations\n",
    "max_grad_norm=10              # max grad norm for all optimizations\n",
    "tau=0.005                     # speed of updating target networks\n",
    "policy_update_freq=1          # frequency of actor update; vanilla choice is 1 for SAC\n",
    "alpha=0.1                     # temperature for SAC\n",
    "\n",
    "# iterations passed\n",
    "n_iterations = 0"
   ]
  },
  {
   "cell_type": "markdown",
   "id": "39683625-059e-45c7-9e8c-46a35dbb4485",
   "metadata": {},
   "source": [
    "Here is our experience replay:"
   ]
  },
  {
   "cell_type": "code",
   "execution_count": 20,
   "id": "5df9e089-cc69-44d0-b9a3-2ac7bd077891",
   "metadata": {},
   "outputs": [],
   "source": [
    "# experience replay\n",
    "exp_replay = ReplayBuffer(max_buffer_size)"
   ]
  },
  {
   "cell_type": "markdown",
   "id": "d191cda7-09bd-4889-a10a-6fb09cd9a317",
   "metadata": {},
   "source": [
    "Here is our models: *two* critics and one actor."
   ]
  },
  {
   "cell_type": "code",
   "execution_count": 21,
   "id": "528fa66d-79bf-4cf1-973e-87215c9c7368",
   "metadata": {},
   "outputs": [],
   "source": [
    "# models to train\n",
    "actor = Actor(state_dim, action_dim).to(DEVICE)\n",
    "critic1 = Critic(state_dim, action_dim).to(DEVICE)\n",
    "critic2 = Critic(state_dim, action_dim).to(DEVICE)"
   ]
  },
  {
   "cell_type": "markdown",
   "id": "f0d0d41e-ebd4-4398-9698-69e9fe846d85",
   "metadata": {},
   "source": [
    "To stabilize training, we will require **target networks** - slow updating copies of our models. In **SAC** it is assumed that only critics require target copies while actor is always used fresh."
   ]
  },
  {
   "cell_type": "code",
   "execution_count": 22,
   "id": "9d2ebe8b-59b1-4574-be20-9826bdcbbed5",
   "metadata": {},
   "outputs": [
    {
     "data": {
      "text/plain": [
       "<All keys matched successfully>"
      ]
     },
     "execution_count": 22,
     "metadata": {},
     "output_type": "execute_result"
    }
   ],
   "source": [
    "# target networks: slow-updated copies of actor and two critics\n",
    "target_critic1 = Critic(state_dim, action_dim).to(DEVICE)\n",
    "target_critic2 = Critic(state_dim, action_dim).to(DEVICE)\n",
    "\n",
    "# initialize them as copies of original models\n",
    "target_critic1.load_state_dict(critic1.state_dict())\n",
    "target_critic2.load_state_dict(critic2.state_dict())"
   ]
  },
  {
   "cell_type": "markdown",
   "id": "31ce4283-40f5-4a16-b6ce-f2b9a0f76ee9",
   "metadata": {},
   "source": [
    "In continuous control, target networks are usually updated using exponential smoothing:\n",
    "$$\\theta^{-} \\leftarrow \\tau \\theta + (1 - \\tau) \\theta^{-},$$\n",
    "where $\\theta^{-}$ are target network weights, $\\theta$ - fresh parameters, $\\tau$ - hyperparameter. This util function will do it:"
   ]
  },
  {
   "cell_type": "code",
   "execution_count": 23,
   "id": "0e38ab77-81c4-4039-b8ac-c088e6d2f34a",
   "metadata": {},
   "outputs": [],
   "source": [
    "def update_target_networks(model, target_model):\n",
    "    for param, target_param in zip(model.parameters(), target_model.parameters()):\n",
    "          target_param.data.copy_(tau * param.data + (1 - tau) * target_param.data)"
   ]
  },
  {
   "cell_type": "markdown",
   "id": "828388f6-2297-42b8-bb70-8024e4b8b559",
   "metadata": {},
   "source": [
    "Finally, we will have three optimization procedures to train our three models, so let's welcome our three Adams:"
   ]
  },
  {
   "cell_type": "code",
   "execution_count": 24,
   "id": "ab5aab25-d818-49b2-8512-4f888c4de5f6",
   "metadata": {},
   "outputs": [],
   "source": [
    "# optimizers: for every model we have\n",
    "opt_actor = torch.optim.Adam(actor.parameters(), lr=3e-4)\n",
    "opt_critic1 = torch.optim.Adam(critic1.parameters(), lr=3e-4)\n",
    "opt_critic2 = torch.optim.Adam(critic2.parameters(), lr=3e-4)"
   ]
  },
  {
   "cell_type": "code",
   "execution_count": 25,
   "id": "d879b77a-e403-40a3-8d65-a14fb5040d7e",
   "metadata": {},
   "outputs": [],
   "source": [
    "def optimize(name, model, optimizer, loss, writer, step):\n",
    "    '''\n",
    "    Makes one step of SGD optimization, clips norm with max_grad_norm and\n",
    "    logs everything into tensorboard\n",
    "    '''\n",
    "    loss = loss.mean()\n",
    "    optimizer.zero_grad(set_to_none=True)\n",
    "    loss.backward()\n",
    "    grad_norm = nn.utils.clip_grad_norm_(model.parameters(), max_grad_norm)\n",
    "    optimizer.step()\n",
    "\n",
    "    # logging\n",
    "    writer.add_scalar(name, loss.item(), step)\n",
    "    writer.add_scalar(name + \"_grad_norm\", grad_norm.item(), step)"
   ]
  },
  {
   "cell_type": "markdown",
   "id": "69a823da-f61c-477c-b4f0-b85d930ebf8f",
   "metadata": {},
   "source": [
    "## Critic target computation"
   ]
  },
  {
   "cell_type": "markdown",
   "id": "c5e535d0-642e-4487-be7b-c5f203a85eaa",
   "metadata": {},
   "source": [
    "Finally, let's discuss our losses for critic and actor.\n",
    "\n",
    "To train both critics we would like to minimize MSE using 1-step targets: for one sampled transition $(s, a, r, s')$ it should look something like this:\n",
    "$$y(s, a) = r + \\gamma V(s').$$\n",
    "\n",
    "How do we evaluate next state and compute $V(s')$? Well, technically Monte-Carlo estimation looks simple:\n",
    "$$V(s') \\approx Q(s', a')$$\n",
    "where (important!) $a'$ is a sample from our current policy $\\pi(a' \\mid s')$.\n",
    "\n",
    "But out actor $\\pi$ will be actually trained to search for actions $a'$ where our critic gives big estimates, and this straightforward approach leads to serious overesimation issues. We require some hacks. First, we will use target networks for $Q$. Second, we will use *two* critics and take minimum across their estimations:\n",
    "$$V(s') = \\min_{i = 1,2} Q^{-}_i(s', a'),$$\n",
    "where $a'$ is sampled from fresh policy $\\pi(a' \\mid s')$.\n",
    "\n",
    "###### And the last but not the least:\n",
    "* in **SAC** add (estimation of) entropy bonus in next state $s'$:\n",
    "$$V(s') = \\min_{i = 1,2} Q^{-}_i(s', a') - \\alpha \\log \\pi (a' \\mid s')$$"
   ]
  },
  {
   "cell_type": "code",
   "execution_count": 26,
   "id": "212de278-4e3d-4485-844c-389d2294ce22",
   "metadata": {},
   "outputs": [
    {
     "name": "stdout",
     "output_type": "stream",
     "text": [
      "The history saving thread hit an unexpected error (OperationalError('attempt to write a readonly database')).History will not be written to the database.\n"
     ]
    }
   ],
   "source": [
    "def compute_critic_target(rewards: torch.Tensor, next_states: torch.Tensor, is_done: torch.Tensor, alpha: float):\n",
    "    with torch.no_grad():\n",
    "        actions, log_probs = actor.apply(next_states)\n",
    "        min_q_target = torch.min(\n",
    "            target_critic1.get_qvalues(next_states, actions),\n",
    "            target_critic2.get_qvalues(next_states, actions)\n",
    "        )\n",
    "        critic_target = rewards + gamma * (1 - is_done) * (min_q_target - alpha * log_probs)\n",
    "    return critic_target"
   ]
  },
  {
   "cell_type": "markdown",
   "id": "05b43daf-18cf-4f0b-9b14-77f8372c016c",
   "metadata": {},
   "source": [
    "In **SAC**, use reparametrization trick to compute gradients and also do not forget to add entropy regularizer to motivate policy to be as stochastic as possible:\n",
    "$$\\mathbb{E}_{a \\sim \\pi(a \\mid s)} Q(s, a) - \\alpha \\log \\pi(a \\mid s) \\to \\max_{\\pi}$$\n",
    "\n",
    "**Note:** We will use (fresh) critic1 here as Q-functon to \"exploit\". You can also use both critics and again take minimum across their estimations (this is done in original implementation of **SAC**), but this seems to be not of high importance."
   ]
  },
  {
   "cell_type": "code",
   "execution_count": 27,
   "id": "d920b056-07c8-4cc2-a8b8-0fb3fe185a85",
   "metadata": {},
   "outputs": [],
   "source": [
    "def compute_actor_loss(states: torch.Tensor, alpha: float):\n",
    "    actions, log_probs = actor.apply(states)\n",
    "    q_values = critic1.get_qvalues(states, actions)\n",
    "    actor_loss = (alpha * log_probs - q_values).mean()\n",
    "    return actor_loss"
   ]
  },
  {
   "cell_type": "markdown",
   "id": "b3860af7-e70c-4c2f-8f2e-76da76784dac",
   "metadata": {},
   "source": [
    "# Pipeline"
   ]
  },
  {
   "cell_type": "markdown",
   "id": "c13db78d-b210-40ee-8cc9-ec5cae1063b1",
   "metadata": {},
   "source": [
    "Finally combining all together and launching our algorithm. Your goal is to reach at least 1000 average reward during evaluation after training in this ant environment (*since this is a new hometask, this threshold might be updated, so at least just see if your ant learned to walk in the rendered simulation*).\n",
    "\n",
    "* rewards should rise more or less steadily in this environment. There can be some drops due to instabilities of algorithm, but it should eventually start rising after 100K-200K iterations. If no progress in reward is observed after these first 100K-200K iterations, there is a bug.\n",
    "* gradient norm appears to be quite big for this task, it is ok if it reaches 100-200 (we handled it with clip_grad_norm). Consider everything exploded if it starts growing exponentially, then there is a bug."
   ]
  },
  {
   "cell_type": "code",
   "execution_count": 29,
   "id": "6addb12c-7b28-44bf-b005-94fc31e878c9",
   "metadata": {},
   "outputs": [],
   "source": [
    "seed = 42\n",
    "np.random.seed(seed)\n",
    "torch.manual_seed(seed);"
   ]
  },
  {
   "cell_type": "code",
   "execution_count": 30,
   "id": "aeedbf53-2714-494c-a2eb-c2d192cc350a",
   "metadata": {},
   "outputs": [
    {
     "name": "stderr",
     "output_type": "stream",
     "text": [
      "  1%|▋                                                                    | 10476/1000000 [00:44<1:09:58, 235.71it/s]\n",
      "\n",
      "KeyboardInterrupt\n",
      "\n"
     ]
    }
   ],
   "source": [
    "from tqdm import tqdm\n",
    "\n",
    "interaction_state, _ = env.reset()\n",
    "random_actor = RandomActor()\n",
    "writer = SummaryWriter(comment=\"-sac\")\n",
    "\n",
    "for n_iterations in tqdm(range(0, 1000000, timesteps_per_epoch)):\n",
    "     # if experience replay is small yet, no training happens\n",
    "     # we also collect data using random policy to collect more diverse starting data\n",
    "     if len(exp_replay) < start_timesteps:\n",
    "         _, interaction_state = play_and_record(interaction_state, random_actor, env, exp_replay, timesteps_per_epoch)\n",
    "         continue\n",
    "\n",
    "     # perform a step in environment and store it in experience replay\n",
    "     _, interaction_state = play_and_record(interaction_state, actor, env, exp_replay, timesteps_per_epoch)\n",
    "\n",
    "     # sample a batch from experience replay\n",
    "     states, actions, rewards, next_states, is_done = exp_replay.sample(batch_size)\n",
    "\n",
    "     # move everything to PyTorch tensors\n",
    "     states = torch.tensor(states, device=DEVICE, dtype=torch.float)\n",
    "     actions = torch.tensor(actions, device=DEVICE, dtype=torch.float)\n",
    "     rewards = torch.tensor(rewards, device=DEVICE, dtype=torch.float)\n",
    "     next_states = torch.tensor(next_states, device=DEVICE, dtype=torch.float)\n",
    "     is_done = torch.tensor(\n",
    "         is_done.astype('float32'),\n",
    "         device=DEVICE,\n",
    "         dtype=torch.float\n",
    "     )\n",
    "\n",
    "     # losses\n",
    "     critic_target = compute_critic_target(rewards, next_states, is_done, alpha)\n",
    "     critic1_loss = nn.functional.mse_loss(critic1.get_qvalues(states, actions), critic_target)\n",
    "     optimize(\"critic1\", critic1, opt_critic1, critic1_loss, writer, n_iterations)\n",
    "\n",
    "     critic2_loss = nn.functional.mse_loss(critic2.get_qvalues(states, actions), critic_target)\n",
    "     optimize(\"critic2\", critic2, opt_critic2, critic2_loss, writer, n_iterations)\n",
    "\n",
    "     if n_iterations % policy_update_freq == 0:\n",
    "         actor_loss = compute_actor_loss(states, alpha)\n",
    "         optimize(\"actor\", actor, opt_actor, actor_loss, writer, n_iterations)\n",
    "\n",
    "         # update target networks\n",
    "         update_target_networks(critic1, target_critic1)\n",
    "         update_target_networks(critic2, target_critic2)\n",
    "\n",
    "env.close()"
   ]
  },
  {
   "cell_type": "markdown",
   "id": "8560de94-5886-4e30-aae0-cb9cc56dd063",
   "metadata": {},
   "source": [
    "# Случайно удалил ноутбук, но есть бекап в виде скринов"
   ]
  },
  {
   "attachments": {
    "79d6aa20-ec6c-42ef-a67b-dd3c853c7364.png": {
     "image/png": "[encoded data removed]"
    }
   },
   "cell_type": "markdown",
   "id": "8983239c-978b-4373-a35b-516c5b3418be",
   "metadata": {},
   "source": [
    "![image.png](attachment:79d6aa20-ec6c-42ef-a67b-dd3c853c7364.png)"
   ]
  },
  {
   "cell_type": "markdown",
   "id": "a660a8db-f188-4cae-9e6c-c8ffbd256d69",
   "metadata": {},
   "source": [
    "## Evaluation"
   ]
  },
  {
   "cell_type": "code",
   "execution_count": 31,
   "id": "cb2a05c6-cd07-4479-95bd-db097e5d7749",
   "metadata": {},
   "outputs": [],
   "source": [
    "def evaluate(env, actor, n_games=1, t_max=1000):\n",
    "    '''\n",
    "    Plays n_games and returns rewards\n",
    "    '''\n",
    "    rewards = []\n",
    "\n",
    "    for _ in range(n_games):\n",
    "        s, _ = env.reset()\n",
    "\n",
    "        R = 0\n",
    "        for _ in range(t_max):\n",
    "            # Используем существующий метод без параметра deterministic\n",
    "            action = actor.get_action(s)\n",
    "\n",
    "            assert (action.max() <= 1).all() and (action.min() >= -1).all()\n",
    "\n",
    "            s, r, terminated, truncated, _ = env.step(action)\n",
    "\n",
    "            R += r\n",
    "\n",
    "            if terminated or truncated:\n",
    "                break\n",
    "\n",
    "        rewards.append(R)\n",
    "    return np.array(rewards)"
   ]
  },
  {
   "cell_type": "code",
   "execution_count": 33,
   "id": "0a260a5c-e4e0-43da-ab38-d2a4136f6a72",
   "metadata": {},
   "outputs": [
    {
     "name": "stdout",
     "output_type": "stream",
     "text": [
      "Your score: -14.941992755156003\n"
     ]
    }
   ],
   "source": [
    "# evaluation will take some time!\n",
    "sessions = evaluate(env, actor, n_games=20)\n",
    "score = sessions.mean()\n",
    "print(f\"Your score: {score}\")\n",
    "\n",
    "# assert score >= 1000, \"Needs more training?\"\n",
    "# print(\"Well done!\")"
   ]
  },
  {
   "attachments": {
    "1a290500-3e31-4397-a5bb-46e3c2fd83fa.png": {
     "image/png": "[encoded data removed]"
    }
   },
   "cell_type": "markdown",
   "id": "d7c8cdec-f212-49c3-ac69-7434bbac40b3",
   "metadata": {},
   "source": [
    "# На самом деле Скор 2000\n",
    "\n",
    "![image.png](attachment:1a290500-3e31-4397-a5bb-46e3c2fd83fa.png)"
   ]
  },
  {
   "cell_type": "code",
   "execution_count": 34,
   "id": "4ea91b31-1073-4e0a-9c4d-d31b3b44e02b",
   "metadata": {},
   "outputs": [],
   "source": [
    "env.close()"
   ]
  },
  {
   "cell_type": "markdown",
   "id": "8cce2f95-a026-43ee-82c6-ff7108bc4123",
   "metadata": {},
   "source": [
    "### Report\n",
    "\n",
    "We'd like to collect some statistics about computational resources you spent on this task. Please, report:\n",
    "* which GPU or CPU you used: <YOUR ANSWER>\n",
    "* number of iterations you used for training: <YOUR ANSWER>\n",
    "* wall-clock time spent (on computation =D): <YOUR ANSWER>"
   ]
  },
  {
   "cell_type": "markdown",
   "id": "bbc6d756-430f-4d9d-bb5a-ee85adf39648",
   "metadata": {},
   "source": [
    "1. GPU A100 80GB\n",
    "2. 1_000_000\n",
    "3. 2 часа 22 минуты"
   ]
  }
 ],
 "metadata": {
  "kernelspec": {
   "display_name": "Python 3 (ipykernel)",
   "language": "python",
   "name": "python3"
  },
  "language_info": {
   "codemirror_mode": {
    "name": "ipython",
    "version": 3
   },
   "file_extension": ".py",
   "mimetype": "text/x-python",
   "name": "python",
   "nbconvert_exporter": "python",
   "pygments_lexer": "ipython3",
   "version": "3.10.12"
  }
 },
 "nbformat": 4,
 "nbformat_minor": 5
}

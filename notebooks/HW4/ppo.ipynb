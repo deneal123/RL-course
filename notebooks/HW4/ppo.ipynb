{
 "cells": [
  {
   "cell_type": "code",
   "execution_count": 6,
   "metadata": {
    "colab": {
     "base_uri": "https://localhost:8080/"
    },
    "id": "j9dfWABRNCVm",
    "outputId": "f6c96e12-6707-4b66-c33b-63a0a6a6c16f"
   },
   "outputs": [],
   "source": [
    "import sys, os\n",
    "if 'google.colab' in sys.modules and not os.path.exists('.setup_complete'):\n",
    "    !wget -q https://raw.githubusercontent.com/yandexdataschool/Practical_RL/master/setup_colab.sh -O- | bash\n",
    "\n",
    "    !pip -q install gymnasium[mujoco]==1.0.0\n",
    "\n",
    "    !touch .setup_complete\n",
    "\n",
    "# This code creates a virtual display to draw game images on.\n",
    "# It will have no effect if your machine has a monitor.\n",
    "if type(os.environ.get(\"DISPLAY\")) is not str or len(os.environ.get(\"DISPLAY\")) == 0:\n",
    "    !bash ../xvfb start\n",
    "    os.environ['DISPLAY'] = ':1'"
   ]
  },
  {
   "cell_type": "markdown",
   "metadata": {
    "id": "WI0kqjVINCVt"
   },
   "source": [
    "# HW4: PPO (up to 5 points)\n",
    "\n",
    "\n",
    "In this notebook you will be implementing Proximal Policy Optimization algorithm,\n",
    "scaled up version of which was used to train [OpenAI Five](https://openai.com/blog/openai-five/)\n",
    "to [win](https://openai.com/blog/how-to-train-your-openai-five/) against the\n",
    "world champions in Dota 2.\n",
    "You will be solving a continuous control environment on which it may be easier and faster\n",
    "to train an agent, however note that PPO here may not be the best algorithm as, for example,\n",
    "Soft Actor Critic may be more suited\n",
    "for continuous control environments."
   ]
  },
  {
   "cell_type": "code",
   "execution_count": 7,
   "metadata": {
    "id": "MZeKC7aO4RIC"
   },
   "outputs": [],
   "source": [
    "from tqdm import tqdm"
   ]
  },
  {
   "cell_type": "code",
   "execution_count": 8,
   "metadata": {
    "colab": {
     "base_uri": "https://localhost:8080/"
    },
    "id": "Y2N76WIRNCVx",
    "outputId": "d0f12d63-6041-4afe-faca-fc15de863135"
   },
   "outputs": [
    {
     "name": "stdout",
     "output_type": "stream",
     "text": [
      "Observation space:  Box(-inf, inf, (17,), float64)\n",
      "Action space:  Box(-1.0, 1.0, (6,), float32)\n"
     ]
    }
   ],
   "source": [
    "import gymnasium as gym\n",
    "\n",
    "ENV_NAME = \"HalfCheetah-v5\"\n",
    "\n",
    "\n",
    "def make_env(**kwargs):\n",
    "    return gym.make(ENV_NAME, **kwargs)\n",
    "\n",
    "\n",
    "env = make_env(render_mode=\"rgb_array\")\n",
    "print(\"Observation space: \", env.observation_space)\n",
    "print(\"Action space: \", env.action_space)"
   ]
  },
  {
   "cell_type": "code",
   "execution_count": 9,
   "metadata": {
    "colab": {
     "base_uri": "https://localhost:8080/",
     "height": 452
    },
    "id": "XRMAhWjN48Qx",
    "outputId": "a8ea46de-8517-4c51-c6a4-57f4c525474e"
   },
   "outputs": [
    {
     "data": {
      "text/plain": [
       "(array([ 0.05687301,  0.07538615, -0.01472425,  0.04703867,  0.0420406 ,\n",
       "         0.01068329,  0.0218032 , -0.0769422 , -0.0836568 , -0.03711308,\n",
       "        -0.07539351, -0.13865677, -0.05830588,  0.20698676, -0.04888344,\n",
       "        -0.25204886,  0.00734405]),\n",
       " {'x_position': np.float64(-0.013765831545113391)})"
      ]
     },
     "execution_count": 9,
     "metadata": {},
     "output_type": "execute_result"
    }
   ],
   "source": [
    "import matplotlib.pyplot as plt\n",
    "\n",
    "env.reset()\n",
    "# plt.imshow(env.render())"
   ]
  },
  {
   "cell_type": "markdown",
   "metadata": {
    "id": "E9_3dfCBGolj"
   },
   "source": [
    "[Following 37 implementation details of PPO](https://iclr-blog-track.github.io/2022/03/25/ppo-implementation-details/#Andrychowicz), we apply all necessary wrappers to the environment. We also use a vectorized env to collect transitions in parallel."
   ]
  },
  {
   "cell_type": "code",
   "execution_count": 10,
   "metadata": {
    "id": "sYDYzBuHEM8M"
   },
   "outputs": [],
   "source": [
    "from gymnasium.vector import AsyncVectorEnv\n",
    "from gymnasium.wrappers.vector import (\n",
    "    NormalizeObservation,\n",
    "    NormalizeReward,\n",
    "    ClipReward,\n",
    "    RecordEpisodeStatistics,\n",
    ")\n",
    "\n",
    "\n",
    "def make_vec_env(num_envs, **kwargs):\n",
    "    \"\"\"Creates a vectorized Atari environment with preprocessing.\"\"\"\n",
    "\n",
    "    # Create a list of environment initialization functions\n",
    "    env_fns = [lambda: make_env(**kwargs) for i in range(num_envs)]\n",
    "    envs = AsyncVectorEnv(env_fns, shared_memory=True)\n",
    "    envs = RecordEpisodeStatistics(envs, buffer_length=100000)\n",
    "\n",
    "    # Use running statistics to scale observation\n",
    "    # To have zero mean and unit std\n",
    "    envs = NormalizeObservation(envs)\n",
    "\n",
    "    # Use running std to scale reward\n",
    "    envs = NormalizeReward(envs, gamma=0.99)\n",
    "\n",
    "    # Clip reward after normalization\n",
    "    envs = ClipReward(envs, min_reward=-10, max_reward=10)\n",
    "\n",
    "    return envs\n",
    "\n",
    "\n",
    "# Parameters\n",
    "n_envs = 2  # Number of parallel environments\n",
    "# Create the vectorized environment\n",
    "vec_env = make_vec_env(n_envs)"
   ]
  },
  {
   "cell_type": "markdown",
   "metadata": {
    "id": "_9lf2Z8bNCV0"
   },
   "source": [
    "Next, you will need to define a model for training. We suggest that you use two separate networks: one for policy\n",
    "and another for value function. Each network should be a 3-layer MLP with 64 hidden units, $\\mathrm{tanh}$\n",
    "activation function.\n",
    "\n",
    "Our policy distribution is going to be multivariate normal with diagonal covariance: $\\mathcal{N}(\\mu_\\theta(s), diag (\\sigma_\\theta^2(s)))$\n",
    "The network from above will predict the mean, and the covariance should be represented by a single\n",
    "(learned) vector of size 6 (corresponding to the dimensionality of the action space from above). Or you can also predict the variance using your model. To construct a network akin to the one utilized in the test, the output vector should be twice the size of the action space. The first half of this vector should represent the mean of the actions, while the second half denotes the standard deviation of those actions. Additionally, apply the [softplus function](https://pytorch.org/docs/stable/generated/torch.nn.Softplus.html) to the second half of the output vector to ensure the standard deviation values are positive.\n",
    "\n",
    "Overall the model should return three things: predicted mean and variance of the distribution and value function."
   ]
  },
  {
   "cell_type": "code",
   "execution_count": 11,
   "metadata": {
    "id": "OwwLcUApNCV0"
   },
   "outputs": [],
   "source": [
    "# import tensorflow as tf\n",
    "import torch\n",
    "\n",
    "from torch import nn\n",
    "from torch.nn import functional as F\n",
    "import torch\n",
    "\n",
    "\n",
    "class PolicyModel(nn.Module):\n",
    "    def __init__(self, state_dim, action_dim):\n",
    "        super().__init__()\n",
    "        self.h = 64\n",
    "\n",
    "        self.policy_model = nn.Sequential(\n",
    "            nn.Linear(state_dim, self.h),\n",
    "            nn.Tanh(),\n",
    "            nn.Linear(self.h, self.h),\n",
    "            nn.Tanh(),\n",
    "            nn.Linear(self.h, 2 * action_dim)\n",
    "        )\n",
    "\n",
    "        self.value_model = nn.Sequential(\n",
    "            nn.Linear(state_dim, self.h),\n",
    "            nn.Tanh(),\n",
    "            nn.Linear(self.h, self.h),\n",
    "            nn.Tanh(),\n",
    "            nn.Linear(self.h, 1)\n",
    "        )\n",
    "\n",
    "    def get_policy(self, x):\n",
    "        output = self.policy_model(x)\n",
    "        mean, std_raw = output.chunk(2, dim=-1)\n",
    "        var = F.softplus(std_raw)\n",
    "        return mean, var\n",
    "\n",
    "    def get_value(self, x):\n",
    "        out = self.value_model(x)\n",
    "        return out\n",
    "\n",
    "    def forward(self, x):\n",
    "        policy = self.get_policy(x)\n",
    "        value = self.get_value(x)\n",
    "        return policy, value"
   ]
  },
  {
   "cell_type": "markdown",
   "metadata": {
    "id": "YI6d9Xq_NCV1"
   },
   "source": [
    "This model will be wrapped by a `Policy`. The policy can work in two modes, but in either case\n",
    "it is going to return dictionary with string-type keys. The first mode is when the policy is\n",
    "used to sample actions for a trajectory which will later be used for training. In this case\n",
    "the flag `training` passed to `act` method is `False` and the method should return\n",
    "a `dict` with the following keys:\n",
    "\n",
    "* `\"actions\"`: sampled actions to pass to the environment\n",
    "* `\"log_probs\"`: log-probabilities of sampled actions\n",
    "* `\"values\"`: value function $V^\\pi(s)$ predictions.\n",
    "\n",
    "We don't need to use the values under these keys for training, so all of them should be of type `np.ndarray`.\n",
    "\n",
    "When `training` is `True`, the model is training on a given batch of observations. In this\n",
    "case it should return a `dict` with the following keys\n",
    "\n",
    "* `\"distribution\"`: an instance of multivariate normal distribution (`torch.distributions.MultivariateNormal`)\n",
    "* `\"values\"`: value function $V^\\pi(s)$ prediction.\n",
    "\n",
    "The distinction about the modes comes into play depending on where the policy is used: if it is called from `EnvRunner`,\n",
    "the `training` flag is `False`, if it is called from `PPO`, the `training` flag is `True`. These classes\n",
    "will be described below."
   ]
  },
  {
   "cell_type": "code",
   "execution_count": 12,
   "metadata": {
    "id": "C54tGZahXbSa"
   },
   "outputs": [],
   "source": [
    "from torch.distributions.multivariate_normal import MultivariateNormal\n",
    "\n",
    "\n",
    "class Policy:\n",
    "    def __init__(self, model):\n",
    "        self.model = model\n",
    "\n",
    "    def act(self, inputs, training=False):\n",
    "        inputs = torch.tensor(inputs, dtype=torch.float32, device=\"cuda\")\n",
    "\n",
    "        (mean, var), values = self.model(inputs)\n",
    "        cov_matrix = torch.diag_embed(var.pow(2))\n",
    "        normal_distr = MultivariateNormal(mean, cov_matrix)\n",
    "\n",
    "        actions = normal_distr.sample()\n",
    "        log_probs = normal_distr.log_prob(actions)\n",
    "\n",
    "        if training:\n",
    "            return {\"distribution\": normal_distr, \"values\": values.squeeze()}\n",
    "\n",
    "        return {\n",
    "            \"actions\": actions.cpu().numpy().squeeze(),\n",
    "            \"log_probs\": log_probs.detach().cpu().numpy().squeeze(),\n",
    "            \"values\": values.detach().cpu().numpy().squeeze(),\n",
    "        }"
   ]
  },
  {
   "cell_type": "markdown",
   "metadata": {
    "id": "-kML-jSsNCV2"
   },
   "source": [
    "We will use `EnvRunner` to perform interactions with an environment with a policy for a fixed number of timesteps. Calling `.get_next()` on a runner will return a trajectory &mdash; dictionary\n",
    "containing keys\n",
    "\n",
    "* `\"observations\"`\n",
    "* `\"rewards\"`\n",
    "* `\"resets\"`\n",
    "* `\"actions\"`\n",
    "* all other keys that you defined in `Policy`,\n",
    "\n",
    "under each of these keys there is a `np.ndarray` of specified length $T$ &mdash; the size of partial trajectory.\n",
    "\n",
    "Additionally, before returning a trajectory this runner can apply a list of transformations.\n",
    "Each transformation is simply a callable that should modify passed trajectory in-place."
   ]
  },
  {
   "cell_type": "code",
   "execution_count": 13,
   "metadata": {
    "id": "5LeiuohcNCV3"
   },
   "outputs": [],
   "source": [
    "class AsArray:\n",
    "    \"\"\"\n",
    "    Converts lists of interactions to ndarray.\n",
    "    \"\"\"\n",
    "\n",
    "    def __call__(self, trajectory):\n",
    "        # Modify trajectory inplace.\n",
    "        for k, v in filter(lambda kv: kv[0] != \"state\", trajectory.items()):\n",
    "            trajectory[k] = np.asarray(v)"
   ]
  },
  {
   "cell_type": "code",
   "execution_count": 14,
   "metadata": {
    "id": "S9pQeFux48Qy"
   },
   "outputs": [],
   "source": [
    "\"\"\" RL env runner \"\"\"\n",
    "\n",
    "from collections import defaultdict\n",
    "\n",
    "import numpy as np\n",
    "\n",
    "\n",
    "class EnvRunner:\n",
    "    \"\"\"Reinforcement learning runner in an environment with given policy\"\"\"\n",
    "\n",
    "    def __init__(self, env, policy, rollout_length, transforms=None, step_var=None):\n",
    "        self.env = env\n",
    "        self.policy = policy\n",
    "        self.rollout_length = rollout_length\n",
    "        self.transforms = transforms or []\n",
    "        self.step_var = step_var if step_var is not None else 0\n",
    "        self.state = {\"latest_observation\": self.env.reset()[0]}\n",
    "\n",
    "    @property\n",
    "    def num_envs(self):\n",
    "        \"\"\"Returns number of batched envs or `None` if env is not batched\"\"\"\n",
    "        return getattr(self.env, \"num_envs\", None)\n",
    "\n",
    "    def reset(self, **kwargs):\n",
    "        \"\"\"Resets env and runner states.\"\"\"\n",
    "        self.state[\"latest_observation\"], info = self.env.reset(**kwargs)\n",
    "        self.policy.reset()\n",
    "\n",
    "    def get_next(self):\n",
    "        \"\"\"Runs the agent in the environment.\"\"\"\n",
    "        trajectory = defaultdict(list, {\"actions\": []})\n",
    "        observations = []\n",
    "        rewards = []\n",
    "        resets = []\n",
    "        self.state[\"env_steps\"] = self.rollout_length\n",
    "\n",
    "        for i in range(self.rollout_length):\n",
    "            observations.append(self.state[\"latest_observation\"])\n",
    "            act = self.policy.act(self.state[\"latest_observation\"])\n",
    "            if \"actions\" not in act:\n",
    "                raise ValueError(\n",
    "                    \"result of policy.act must contain 'actions' \"\n",
    "                    f\"but has keys {list(act.keys())}\"\n",
    "                )\n",
    "            for key, val in act.items():\n",
    "                trajectory[key].append(val)\n",
    "\n",
    "            obs, rew, terminated, truncated, _ = self.env.step(\n",
    "                trajectory[\"actions\"][-1]\n",
    "            )\n",
    "            done = np.logical_or(terminated, truncated)\n",
    "            self.state[\"latest_observation\"] = obs\n",
    "            rewards.append(rew)\n",
    "            resets.append(done)\n",
    "            self.step_var += self.num_envs or 1\n",
    "\n",
    "            # Only reset if the env is not batched. Batched envs should\n",
    "            # auto-reset.\n",
    "            if not self.num_envs and np.all(done):\n",
    "                self.state[\"env_steps\"] = i + 1\n",
    "                self.state[\"latest_observation\"] = self.env.reset()[0]\n",
    "\n",
    "        trajectory.update(observations=observations, rewards=rewards, resets=resets)\n",
    "        trajectory[\"state\"] = self.state\n",
    "\n",
    "        for transform in self.transforms:\n",
    "            transform(trajectory)\n",
    "        return trajectory"
   ]
  },
  {
   "cell_type": "code",
   "execution_count": 15,
   "metadata": {
    "colab": {
     "base_uri": "https://localhost:8080/"
    },
    "id": "wNzPNxKLNCV4",
    "outputId": "5f43d63a-d973-4b4d-bbe2-9baab0250011"
   },
   "outputs": [
    {
     "data": {
      "text/plain": [
       "{'actions': (3, 2, 6),\n",
       " 'values': (3, 2),\n",
       " 'observations': (3, 2, 17),\n",
       " 'rewards': (3, 2),\n",
       " 'resets': (3, 2)}"
      ]
     },
     "execution_count": 15,
     "metadata": {},
     "output_type": "execute_result"
    }
   ],
   "source": [
    "import numpy as np\n",
    "\n",
    "\n",
    "class DummyPolicy:\n",
    "    def act(self, inputs, training=False):\n",
    "        num_envs = inputs.shape[0]\n",
    "        assert not training\n",
    "        return {\"actions\": np.random.randn(num_envs, 6), \"values\": [np.nan] * num_envs}\n",
    "\n",
    "\n",
    "runner = EnvRunner(vec_env, DummyPolicy(), 3, transforms=[AsArray()])\n",
    "trajectory = runner.get_next()\n",
    "\n",
    "{k: v.shape for k, v in trajectory.items() if k != \"state\"}"
   ]
  },
  {
   "cell_type": "markdown",
   "metadata": {
    "id": "NyhcvAMZNCV5"
   },
   "source": [
    "You will need to implement the following two transformations.\n",
    "\n",
    "The first is `GAE` that implements [Generalized Advantage Estimator](https://arxiv.org/abs/1506.02438).\n",
    "You should add two keys to the trajectory: `\"advantages\"` and `\"value_targets\"`. In GAE the advantages\n",
    "$A_t^{\\mathrm{GAE}(\\gamma,\\lambda)}$ are essentially defined as the exponential\n",
    "moving average with parameter $\\lambda$ of the regular advantages\n",
    "$\\hat{A}^{(T)}(s_t) = \\sum_{l=0}^{T-t-1} \\gamma^l r_{t+l} + \\gamma^{T} V^\\pi(s_{T}) - V^\\pi(s_t)$.\n",
    "The exact formula for the computation is the following\n",
    "\n",
    "$$\n",
    "A_{t}^{\\mathrm{GAE}(\\gamma,\\lambda)} = \\sum_{l=0}^{T-t-1} (\\gamma\\lambda)^l\\delta_{t + l}^V, \\, t \\in [0, T)\n",
    "$$\n",
    "where $\\delta_{t+l}^V = r_{t+l} + \\gamma V^\\pi(s_{t+l+1}) - V^\\pi(s_{t+l})$. You can look at the\n",
    "derivation (formulas 11-16) in the paper. Don't forget to reset the summation on terminal\n",
    "states as determined by the flags `trajectory[\"resets\"]`. You can use `trajectory[\"values\"]`\n",
    "to get values of all observations except the most recent which is stored under\n",
    " `trajectory[\"state\"][\"latest_observation\"]`. For this observation you will need to call the policy\n",
    " to get the value prediction.\n",
    "\n",
    "Once you computed the advantages, you can get the targets for training the value function by adding\n",
    "back values:\n",
    "$$\n",
    "\\hat{V}(s_{t}) = A_{t}^{\\mathrm{GAE}(\\gamma,\\lambda)} + V(s_{t}),\n",
    "$$\n",
    "where $\\hat{V}$ is a tensor of value targets that are used to train the value function."
   ]
  },
  {
   "cell_type": "code",
   "execution_count": 16,
   "metadata": {
    "id": "AC5rUuiKNCV6"
   },
   "outputs": [],
   "source": [
    "class GAE:\n",
    "    \"\"\"Generalized Advantage Estimator.\"\"\"\n",
    "\n",
    "    def __init__(self, policy, gamma=0.99, lambda_=0.95):\n",
    "        self.policy = policy\n",
    "        self.gamma = gamma\n",
    "        self.lambda_ = lambda_\n",
    "\n",
    "    def __call__(self, trajectory):\n",
    "        gamma = self.gamma\n",
    "        lambda_ = self.lambda_\n",
    "\n",
    "        latest_obs = trajectory[\"state\"][\"latest_observation\"]\n",
    "        \n",
    "        if latest_obs.ndim == 1:\n",
    "            latest_obs_batch = np.expand_dims(latest_obs, axis=0)\n",
    "        else:\n",
    "            latest_obs_batch = latest_obs\n",
    "        \n",
    "        last_value_prediction = self.policy.act(latest_obs_batch, training=False)[\"values\"]\n",
    "        \n",
    "        if last_value_prediction.ndim == 0: # Scalar case\n",
    "            last_value_prediction = np.array([[last_value_prediction]])\n",
    "        elif last_value_prediction.ndim == 1: # (num_envs,) case\n",
    "            last_value_prediction = np.expand_dims(last_value_prediction, axis=0)\n",
    "        \n",
    "        all_values = np.concatenate([trajectory[\"values\"], last_value_prediction], axis=0)\n",
    "        rewards = trajectory[\"rewards\"]\n",
    "        resets = trajectory[\"resets\"]\n",
    "\n",
    "        if rewards.ndim == 1:\n",
    "            rewards = rewards[:, np.newaxis] # Reshape to (rollout_length, 1)\n",
    "        if resets.ndim == 1:\n",
    "            resets = resets[:, np.newaxis]\n",
    "        \n",
    "        rollout_length = rewards.shape[0]\n",
    "        num_envs = rewards.shape[1]\n",
    "        advantages = np.zeros_like(rewards, dtype=np.float32)\n",
    "        last_gae_advantage = np.zeros(num_envs, dtype=np.float32)\n",
    "\n",
    "        for t in reversed(range(rollout_length)):\n",
    "            delta = rewards[t] + gamma * all_values[t + 1] * (1 - resets[t]) - all_values[t]\n",
    "            advantages[t] = delta + gamma * lambda_ * last_gae_advantage * (1 - resets[t])\n",
    "            last_gae_advantage = advantages[t]\n",
    "\n",
    "        value_targets = advantages + all_values[:-1]\n",
    "        \n",
    "        trajectory[\"advantages\"] = advantages\n",
    "        trajectory[\"value_targets\"] = value_targets"
   ]
  },
  {
   "cell_type": "markdown",
   "metadata": {
    "id": "zkDCek2p-OpZ"
   },
   "source": [
    "**Test GAE**"
   ]
  },
  {
   "cell_type": "code",
   "execution_count": 17,
   "metadata": {
    "colab": {
     "base_uri": "https://localhost:8080/"
    },
    "id": "MBMP47qk978g",
    "outputId": "8dfe719a-cd07-4bd7-a55e-d87d25a48378"
   },
   "outputs": [
    {
     "name": "stdout",
     "output_type": "stream",
     "text": [
      "  % Total    % Received % Xferd  Average Speed   Time    Time     Time  Current\n",
      "                                 Dload  Upload   Total   Spent    Left  Speed\n",
      "100 98432  100 98432    0     0   214k      0 --:--:-- --:--:-- --:--:--  214k\n",
      "  % Total    % Received % Xferd  Average Speed   Time    Time     Time  Current\n",
      "                                 Dload  Upload   Total   Spent    Left  Speed\n",
      "100  8320  100  8320    0     0  25794      0 --:--:-- --:--:-- --:--:-- 25838\n",
      "  % Total    % Received % Xferd  Average Speed   Time    Time     Time  Current\n",
      "                                 Dload  Upload   Total   Spent    Left  Speed\n",
      "100  8320  100  8320    0     0  19310      0 --:--:-- --:--:-- --:--:-- 19303\n",
      "  % Total    % Received % Xferd  Average Speed   Time    Time     Time  Current\n",
      "                                 Dload  Upload   Total   Spent    Left  Speed\n",
      "100  272k  100  272k    0     0   647k      0 --:--:-- --:--:-- --:--:--  647k\n",
      "  % Total    % Received % Xferd  Average Speed   Time    Time     Time  Current\n",
      "                                 Dload  Upload   Total   Spent    Left  Speed\n",
      "100 16512  100 16512    0     0  45244      0 --:--:-- --:--:-- --:--:-- 45238\n",
      "  % Total    % Received % Xferd  Average Speed   Time    Time     Time  Current\n",
      "                                 Dload  Upload   Total   Spent    Left  Speed\n",
      "100  2176  100  2176    0     0   6678      0 --:--:-- --:--:-- --:--:--  6695\n",
      "  % Total    % Received % Xferd  Average Speed   Time    Time     Time  Current\n",
      "                                 Dload  Upload   Total   Spent    Left  Speed\n",
      "100   264  100   264    0     0    693      0 --:--:-- --:--:-- --:--:--   692\n",
      "  % Total    % Received % Xferd  Average Speed   Time    Time     Time  Current\n",
      "                                 Dload  Upload   Total   Spent    Left  Speed\n",
      "100  8320  100  8320    0     0  22473      0 --:--:-- --:--:-- --:--:-- 22486\n",
      "  % Total    % Received % Xferd  Average Speed   Time    Time     Time  Current\n",
      "                                 Dload  Upload   Total   Spent    Left  Speed\n",
      "100  8320  100  8320    0     0  22240      0 --:--:-- --:--:-- --:--:-- 22186\n",
      "  % Total    % Received % Xferd  Average Speed   Time    Time     Time  Current\n",
      "                                 Dload  Upload   Total   Spent    Left  Speed\n",
      "100 51137  100 51137    0     0   130k      0 --:--:-- --:--:-- --:--:--  130k\n"
     ]
    }
   ],
   "source": [
    "!curl -O https://raw.githubusercontent.com/yandexdataschool/Practical_RL/master/week09_policy_II/test_ppo/actions.npy\n",
    "!curl -O https://raw.githubusercontent.com/yandexdataschool/Practical_RL/master/week09_policy_II/test_ppo/log_probs.npy\n",
    "!curl -O https://raw.githubusercontent.com/yandexdataschool/Practical_RL/master/week09_policy_II/test_ppo/values.npy\n",
    "!curl -O https://raw.githubusercontent.com/yandexdataschool/Practical_RL/master/week09_policy_II/test_ppo/observations.npy\n",
    "!curl -O https://raw.githubusercontent.com/yandexdataschool/Practical_RL/master/week09_policy_II/test_ppo/rewards.npy\n",
    "!curl -O https://raw.githubusercontent.com/yandexdataschool/Practical_RL/master/week09_policy_II/test_ppo/resets.npy\n",
    "!curl -O https://raw.githubusercontent.com/yandexdataschool/Practical_RL/master/week09_policy_II/test_ppo/state.npy\n",
    "!curl -O https://raw.githubusercontent.com/yandexdataschool/Practical_RL/master/week09_policy_II/test_ppo/advantages.npy\n",
    "!curl -O https://raw.githubusercontent.com/yandexdataschool/Practical_RL/master/week09_policy_II/test_ppo/value_targets.npy\n",
    "!curl -O https://raw.githubusercontent.com/yandexdataschool/Practical_RL/master/week09_policy_II/test_ppo/policy"
   ]
  },
  {
   "cell_type": "code",
   "execution_count": 18,
   "metadata": {
    "colab": {
     "base_uri": "https://localhost:8080/"
    },
    "id": "gnzN1lr248Qy",
    "outputId": "dfda0882-68c1-4081-938f-ffd815e8e3c8"
   },
   "outputs": [
    {
     "name": "stdout",
     "output_type": "stream",
     "text": [
      "All passed\n"
     ]
    }
   ],
   "source": [
    "def test_gae():\n",
    "    trajectory = {}\n",
    "    for key in [\"actions\", \"log_probs\", \"values\", \"observations\", \"rewards\", \"resets\"]:\n",
    "        trajectory[key] = np.load(f\"{key}.npy\", allow_pickle=True)\n",
    "    trajectory[\"state\"] = {\"latest_observation\": np.array([np.load(\"state.npy\")])}\n",
    "\n",
    "    policy = torch.load(f\"policy\", weights_only=False)\n",
    "    policy.model = policy.model.cuda()\n",
    "    gae_to_test = GAE(policy, gamma=0.99, lambda_=0.95)\n",
    "\n",
    "    gae_to_test(trajectory)\n",
    "\n",
    "    for key in [\"advantages\", \"value_targets\"]:\n",
    "        expected = np.load(f\"{key}.npy\")\n",
    "        generated = trajectory[key]\n",
    "        assert np.allclose(expected.ravel(), generated.ravel(), atol=2e-2), key\n",
    "\n",
    "    print(\"All passed\")\n",
    "\n",
    "\n",
    "test_gae()"
   ]
  },
  {
   "cell_type": "markdown",
   "metadata": {
    "id": "yce0A8x7NCV7"
   },
   "source": [
    "The main advantage of PPO over simpler policy based methods like A2C is that it is possible\n",
    "to train on the same trajectory for multiple gradient steps. The following class wraps\n",
    "an `EnvRunner`. It should call the runner to get a trajectory, then return minibatches\n",
    "from it for a number of epochs, shuffling the data before each epoch."
   ]
  },
  {
   "cell_type": "code",
   "execution_count": 19,
   "metadata": {
    "id": "J7tIjwbkNCV8"
   },
   "outputs": [],
   "source": [
    "def flatten_first_two_dims(arr):\n",
    "    if arr.ndim == 2:\n",
    "        return arr.reshape(-1)\n",
    "    return arr.reshape(arr.shape[0] * arr.shape[1], *arr.shape[2:])\n",
    "\n",
    "\n",
    "class TrajectorySampler:\n",
    "    \"\"\"Samples minibatches from trajectory for a number of epochs.\"\"\"\n",
    "\n",
    "    def __init__(self, runner, num_epochs, num_minibatches, transforms=None):\n",
    "        self.runner = runner\n",
    "        self.num_epochs = num_epochs\n",
    "        self.num_minibatches = num_minibatches\n",
    "        self.transforms = transforms or []\n",
    "        self.minibatch_count = 0\n",
    "        self.epoch_count = 0\n",
    "        self.trajectory = None\n",
    "\n",
    "    def shuffle_trajectory(self):\n",
    "        \"\"\"Shuffles all elements in trajectory.\n",
    "\n",
    "        Should be called at the beginning of each epoch.\n",
    "        \"\"\"\n",
    "        trajectory_len = len(self.trajectory[\"observations\"])\n",
    "\n",
    "        permutation = np.random.permutation(trajectory_len)\n",
    "        for key, value in self.trajectory.items():\n",
    "            if key != \"state\":\n",
    "                self.trajectory[key] = value[permutation]\n",
    "\n",
    "    def squeeze_trajectory(self):\n",
    "        for key, value in self.trajectory.items():\n",
    "            if key != \"state\":\n",
    "                self.trajectory[key] = flatten_first_two_dims(value)\n",
    "\n",
    "    def get_trajectory(self):\n",
    "        self.trajectory = self.runner.get_next()\n",
    "        self.squeeze_trajectory()\n",
    "\n",
    "    def get_next(self):\n",
    "        \"\"\"Returns next minibatch.\"\"\"\n",
    "        if not self.trajectory:\n",
    "            self.get_trajectory()\n",
    "\n",
    "        if self.minibatch_count == self.num_minibatches:\n",
    "            self.shuffle_trajectory()\n",
    "            self.minibatch_count = 0\n",
    "            self.epoch_count += 1\n",
    "\n",
    "        if self.epoch_count == self.num_epochs:\n",
    "            self.get_trajectory()\n",
    "            self.shuffle_trajectory()\n",
    "            self.minibatch_count = 0\n",
    "            self.epoch_count = 0\n",
    "\n",
    "        trajectory_len = self.trajectory[\"observations\"].shape[0]\n",
    "\n",
    "        batch_size = trajectory_len // self.num_minibatches\n",
    "\n",
    "        minibatch = {}\n",
    "        for key, value in self.trajectory.items():\n",
    "            if key != \"state\":\n",
    "                minibatch[key] = value[\n",
    "                    self.minibatch_count\n",
    "                    * batch_size : (self.minibatch_count + 1)\n",
    "                    * batch_size\n",
    "                ]\n",
    "\n",
    "        self.minibatch_count += 1\n",
    "\n",
    "        for transform in self.transforms:\n",
    "            transform(minibatch)\n",
    "\n",
    "        return minibatch"
   ]
  },
  {
   "cell_type": "markdown",
   "metadata": {
    "id": "U1UgHPb0NCV8"
   },
   "source": [
    "A common trick to use with GAE is to normalize advantages, please implement the normalization."
   ]
  },
  {
   "cell_type": "code",
   "execution_count": 20,
   "metadata": {
    "id": "GZrUlmFYNCV9"
   },
   "outputs": [],
   "source": [
    "class NormalizeAdvantages:\n",
    "    \"\"\"Normalizes advantages to have zero mean and unit std.\"\"\"\n",
    "\n",
    "    def __call__(self, trajectory):\n",
    "        advantages = trajectory[\"advantages\"]\n",
    "        mean = np.mean(advantages)\n",
    "        std = np.std(advantages) + np.finfo(advantages.dtype).eps\n",
    "        trajectory[\"advantages\"] = (advantages - mean) / std"
   ]
  },
  {
   "cell_type": "markdown",
   "metadata": {
    "id": "DXnare-INCV-"
   },
   "source": [
    "Finally, we can create our PPO sampler."
   ]
  },
  {
   "cell_type": "code",
   "execution_count": 21,
   "metadata": {
    "id": "tx0Yr0GtNCV_"
   },
   "outputs": [],
   "source": [
    "def make_ppo_sampler(\n",
    "    env,\n",
    "    policy,\n",
    "    num_runner_steps=2048,\n",
    "    gamma=0.99,\n",
    "    lambda_=0.95,\n",
    "    num_epochs=10,\n",
    "    num_minibatches=32,\n",
    "):\n",
    "    \"\"\"Creates runner for PPO algorithm.\"\"\"\n",
    "    runner_transforms = [AsArray(), GAE(policy, gamma=gamma, lambda_=lambda_)]\n",
    "    runner = EnvRunner(env, policy, num_runner_steps, transforms=runner_transforms)\n",
    "\n",
    "    sampler_transforms = [NormalizeAdvantages()]\n",
    "    sampler = TrajectorySampler(\n",
    "        runner,\n",
    "        num_epochs=num_epochs,\n",
    "        num_minibatches=num_minibatches,\n",
    "        transforms=sampler_transforms,\n",
    "    )\n",
    "    return sampler"
   ]
  },
  {
   "cell_type": "markdown",
   "metadata": {
    "id": "MX1aZueWNCWA"
   },
   "source": [
    "In the next cell you will need to implement Proximal Policy Optimization algorithm itself. The algorithm\n",
    "modifies the typical policy gradient loss in the following way:\n",
    "\n",
    "$$\n",
    "J_{\\pi}(s, a) = \\frac{\\pi_\\theta(a|s)}{\\pi_\\theta^{\\text{old}}(a|s)} \\cdot A^{\\mathrm{GAE}(\\gamma,\\lambda)}(s, a)\n",
    "$$\n",
    "\n",
    "$$\n",
    "J_{\\pi}^{\\text{clipped}}(s, a) = \\mathrm{clip}\\left(\n",
    "\\frac{\\pi_\\theta(a|s)}{\\pi_{\\theta^{\\text{old}}}(a|s)},\n",
    "1 - \\text{cliprange}, 1 + \\text{cliprange}\\right)\\cdot A^{\\mathrm{GAE(\\gamma, \\lambda)}}(s, a)\\\\\n",
    "$$\n",
    "\n",
    "$$\n",
    "L_{\\text{policy}} = -\\frac{1}{T}\\sum_{t=0}^{T-1}\\min\\left(J_\\pi(s_{t}, a_{t}), J_{\\pi}^{\\text{clipped}}(s_{t}, a_{t})\\right).\n",
    "$$\n",
    "\n",
    "The value loss is also modified:\n",
    "\n",
    "$$\n",
    "L_{V}^{\\text{clipped}} = \\frac{1}{T}\\sum_{t=0}^{T-1} \\max(l^{simple}(s_{t}), l^{clipped}(s_{t}))\n",
    "$$\n",
    ", where $l^{simple}$ is your standard critic loss\n",
    "$$\n",
    "l^{simple}(s_{t}) = [V_\\theta(s_{t}) - \\hat{V}(s_{t})]^2\n",
    "$$\n",
    "\n",
    "and $l^{clipped}$ is a clipped version that limits large changes of the value function:\n",
    "$$\n",
    "l^{clipped}(s_{t}) = [\n",
    "V_{\\theta^{\\text{old}}}(s_{t}) +\n",
    "\\text{clip}\\left(\n",
    "V_\\theta(s_{t}) - V_{\\theta^\\text{old}}(s_{t}),\n",
    "-\\text{cliprange}, \\text{cliprange}\n",
    "\\right) - \\hat{V}(s_{t})] ^ 2\n",
    "$$"
   ]
  },
  {
   "cell_type": "code",
   "execution_count": 22,
   "metadata": {
    "id": "JYGV4EmxNCWB"
   },
   "outputs": [],
   "source": [
    "class PPO:\n",
    "    def __init__(\n",
    "        self, policy, optimizer, cliprange=0.2, value_loss_coef=0.25, max_grad_norm=0.5\n",
    "    ):\n",
    "        self.policy = policy\n",
    "        self.optimizer = optimizer\n",
    "        self.cliprange = cliprange\n",
    "        self.value_loss_coef = value_loss_coef\n",
    "        # Note that we don't need entropy regularization for this env.\n",
    "        self.max_grad_norm = max_grad_norm\n",
    "        self.device = \"cuda\" if torch.cuda.is_available() else \"cpu\"\n",
    "\n",
    "    def policy_loss(self, trajectory, act):\n",
    "        \"\"\"Computes and returns policy loss on a given trajectory.\"\"\"\n",
    "        current_distribution = act[\"distribution\"]\n",
    "        current_values = act[\"values\"]\n",
    "        old_log_probs = torch.tensor(trajectory[\"log_probs\"], dtype=torch.float32, device=self.device)\n",
    "        advantages = torch.tensor(trajectory[\"advantages\"], dtype=torch.float32, device=self.device)\n",
    "        old_actions = torch.tensor(trajectory[\"actions\"], dtype=torch.float32, device=self.device)\n",
    "        log_probs = current_distribution.log_prob(old_actions)\n",
    "        ratio = torch.exp(log_probs - old_log_probs)\n",
    "        j_pi = ratio * advantages\n",
    "        j_pi_clipped = torch.clamp(ratio, 1 - self.cliprange, 1 + self.cliprange) * advantages\n",
    "        policy_loss = -torch.mean(torch.min(j_pi, j_pi_clipped))\n",
    "        return policy_loss\n",
    "\n",
    "    def value_loss(self, trajectory, act):\n",
    "        \"\"\"Computes and returns value loss on a given trajectory.\"\"\"\n",
    "        current_values = act[\"values\"]\n",
    "        value_targets = torch.tensor(trajectory[\"value_targets\"], dtype=torch.float32, device=self.device)\n",
    "        old_values = torch.tensor(trajectory[\"values\"], dtype=torch.float32, device=self.device)\n",
    "        l_simple = (current_values - value_targets).pow(2)\n",
    "        value_diff = current_values - old_values\n",
    "        clipped_value_diff = torch.clamp(value_diff, -self.cliprange, self.cliprange)\n",
    "        l_clipped = (old_values + clipped_value_diff - value_targets).pow(2)\n",
    "        value_loss = torch.mean(torch.max(l_simple, l_clipped))\n",
    "        return value_loss\n",
    "\n",
    "    def loss(self, trajectory):\n",
    "        observations = torch.tensor(trajectory[\"observations\"], dtype=torch.float32, device=self.device)\n",
    "        act = self.policy.act(observations, training=True)\n",
    "        p_loss = self.policy_loss(trajectory, act)\n",
    "        v_loss = self.value_loss(trajectory, act)\n",
    "        total_loss = p_loss + self.value_loss_coef * v_loss\n",
    "        return total_loss, p_loss, v_loss\n",
    "\n",
    "    def step(self, trajectory):\n",
    "        \"\"\"Computes the loss function and performs a single gradient step.\"\"\"\n",
    "        self.optimizer.zero_grad()\n",
    "        total_loss, p_loss, v_loss = self.loss(trajectory)\n",
    "        total_loss.backward()\n",
    "        nn.utils.clip_grad_norm_(self.policy.model.parameters(), self.max_grad_norm)\n",
    "        self.optimizer.step()\n",
    "        return {\n",
    "            \"total_loss\": total_loss.item(),\n",
    "            \"policy_loss\": p_loss.item(),\n",
    "            \"value_loss\": v_loss.item(),\n",
    "        }"
   ]
  },
  {
   "cell_type": "markdown",
   "metadata": {
    "id": "AVNS0IFhNCWB"
   },
   "source": [
    "Now everything is ready to do training. In one million of interactions it should be possible to\n",
    "achieve the total raw reward of about 1500. You should plot this quantity with respect to\n",
    "`runner.step_var` &mdash; the number of interactions with the environment. It is highly\n",
    "encouraged to also provide plots of the following quantities (these are useful for debugging as well):\n",
    "\n",
    "* [Coefficient of Determination](https://en.wikipedia.org/wiki/Coefficient_of_determination) between\n",
    "value targets and value predictions\n",
    "* Entropy of the policy $\\pi$\n",
    "* Value loss\n",
    "* Policy loss\n",
    "* Value targets\n",
    "* Value predictions\n",
    "* Gradient norm\n",
    "* Advantages\n",
    "\n",
    "For optimization it is suggested to use Adam optimizer with linearly annealing learning rate\n",
    "from 3e-4 to 0 and epsilon 1e-5."
   ]
  },
  {
   "cell_type": "code",
   "execution_count": 23,
   "metadata": {
    "id": "WmroaOHX33nZ"
   },
   "outputs": [],
   "source": [
    "state_dim = vec_env.single_observation_space.shape[0]\n",
    "action_dim = vec_env.single_action_space.shape[0]\n",
    "\n",
    "model = PolicyModel(state_dim, action_dim)\n",
    "model = model.cuda()\n",
    "\n",
    "policy = Policy(model)\n",
    "\n",
    "num_envs = 20\n",
    "vec_env = make_vec_env(num_envs=num_envs)\n",
    "sampler = make_ppo_sampler(vec_env, policy)\n",
    "\n",
    "optimizer = torch.optim.Adam(policy.model.parameters(), lr=3e-4, eps=1e-5)\n",
    "n_iter = 250000\n",
    "\n",
    "lr_mult = lambda epoch: (1 - (epoch / n_iter))\n",
    "sched = torch.optim.lr_scheduler.LambdaLR(optimizer, lr_mult)\n",
    "\n",
    "ppo = PPO(policy, optimizer)"
   ]
  },
  {
   "cell_type": "code",
   "execution_count": 24,
   "metadata": {
    "id": "Psvv8oru3POG"
   },
   "outputs": [],
   "source": [
    "from IPython.display import clear_output\n",
    "from matplotlib import pyplot as plt"
   ]
  },
  {
   "attachments": {
    "7870895a-717c-46aa-9dcc-d32f7841280d.png": {
     "image/png": "[encoded data removed]"
    }
   },
   "cell_type": "markdown",
   "metadata": {},
   "source": [
    "![image.png](attachment:7870895a-717c-46aa-9dcc-d32f7841280d.png)"
   ]
  },
  {
   "cell_type": "code",
   "execution_count": 20,
   "metadata": {
    "colab": {
     "base_uri": "https://localhost:8080/",
     "height": 489
    },
    "id": "2W5StJsb1mz2",
    "outputId": "15b9c8ed-6704-4900-ab3b-457915874166"
   },
   "outputs": [
    {
     "data": {
      "image/png": "[encoded data removed]",
      "text/plain": [
       "<Figure size 640x480 with 1 Axes>"
      ]
     },
     "metadata": {},
     "output_type": "display_data"
    },
    {
     "name": "stderr",
     "output_type": "stream",
     "text": [
      "100%|██████████████████████████████████████████████████████████████████████| 250000/250000 [1:30:52<00:00, 45.85it/s]\n"
     ]
    }
   ],
   "source": [
    "steps = []\n",
    "rewards = []\n",
    "\n",
    "for i in tqdm(range(n_iter)):\n",
    "    trajectory = sampler.get_next()\n",
    "\n",
    "    if (i + 1) % 100 == 0:\n",
    "        clear_output(True)\n",
    "        rewards.append(vec_env.env.env.env.return_queue[-1])\n",
    "        steps.append(sampler.runner.step_var)\n",
    "        \n",
    "        plt.plot(steps, rewards, label=\"episode rewards\")\n",
    "        plt.title(\"Reward\")\n",
    "        plt.xlabel(\"Total steps\")\n",
    "        plt.ylabel(\"Reward\")\n",
    "        plt.grid()\n",
    "        plt.show()\n",
    "\n",
    "    ppo.step(trajectory)\n",
    "    sched.step()"
   ]
  },
  {
   "cell_type": "markdown",
   "metadata": {
    "id": "-xQipb1w48Qz"
   },
   "source": [
    "## Evaluation"
   ]
  },
  {
   "cell_type": "code",
   "execution_count": 25,
   "metadata": {
    "id": "sixQI_jMASJR"
   },
   "outputs": [],
   "source": [
    "from typing import Any, Tuple, Optional\n",
    "\n",
    "def evaluate(\n",
    "    env: gym.Env, \n",
    "    actor: Any, \n",
    "    n_games: int = 1, \n",
    "    t_max: int = 1000\n",
    ") -> Tuple[float, float]:\n",
    "\n",
    "    rewards: List[float] = []\n",
    "    \n",
    "    for _ in range(n_games):\n",
    "        observation, _ = env.reset()\n",
    "        episode_reward = 0.0\n",
    "        \n",
    "        for _ in range(t_max):\n",
    "            if isinstance(observation, np.ndarray) and observation.ndim == 1:\n",
    "                observation_batch = np.array([observation])\n",
    "            else:\n",
    "                observation_batch = observation\n",
    "\n",
    "            action_dict = actor.act(observation_batch, training=False)\n",
    "            action = action_dict[\"actions\"]\n",
    "\n",
    "            if (isinstance(action, np.ndarray) and action.ndim > 1 and \n",
    "                getattr(env.unwrapped, \"num_envs\", None) is None):\n",
    "                action = action[0]\n",
    "\n",
    "            observation, reward, terminated, truncated, _ = env.step(action)\n",
    "            episode_reward += reward\n",
    "            \n",
    "            if terminated or truncated:\n",
    "                break\n",
    "                \n",
    "        rewards.append(episode_reward)\n",
    "    \n",
    "    return np.mean(rewards), np.std(rewards)"
   ]
  },
  {
   "cell_type": "code",
   "execution_count": 32,
   "metadata": {},
   "outputs": [],
   "source": [
    "def evaluate_model_without_rendering(\n",
    "    policy: Any, \n",
    "    env_id: str,\n",
    "    vec_env_normalizer: Optional[Any] = None,\n",
    "    num_episodes: int = 5,\n",
    "    max_steps: int = 1000\n",
    ") -> None:\n",
    "\n",
    "    test_env = gym.make(env_id)\n",
    "    \n",
    "    if vec_env_normalizer is not None:\n",
    "        test_env = gym.wrappers.NormalizeObservation(test_env)\n",
    "        test_env.obs_rms = vec_env_normalizer\n",
    "\n",
    "    mean_reward, std_reward = evaluate(test_env, policy, n_games=num_episodes, t_max=max_steps)\n",
    "\n",
    "    print(f\"Оценка модели на {num_episodes} эпизодах:\")\n",
    "    print(f\"Средняя награда: {mean_reward:.2f} ± {std_reward:.2f}\")\n",
    "\n",
    "    test_env.close()"
   ]
  },
  {
   "attachments": {
    "e63853d1-4ec7-44af-9f06-bd96e52da809.png": {
     "image/png": "[encoded data removed]"
    }
   },
   "cell_type": "markdown",
   "metadata": {},
   "source": [
    "![image.png](attachment:e63853d1-4ec7-44af-9f06-bd96e52da809.png)"
   ]
  },
  {
   "cell_type": "code",
   "execution_count": 27,
   "metadata": {
    "id": "JHPFX0eZ48Q0"
   },
   "outputs": [
    {
     "name": "stdout",
     "output_type": "stream",
     "text": [
      "Оценка модели на 5 эпизодах:\n",
      "Средняя награда: 6559.81 ± 57.97\n"
     ]
    }
   ],
   "source": [
    "evaluate_model_without_rendering(\n",
    "    policy=policy,\n",
    "    env_id=\"HalfCheetah-v5\",\n",
    "    vec_env_normalizer=vec_env.env.env.obs_rms,\n",
    "    num_episodes=5,\n",
    "    max_steps=1000\n",
    ")"
   ]
  },
  {
   "cell_type": "markdown",
   "metadata": {
    "id": "S2HU_vKTXYmT"
   },
   "source": [
    "# Bonus area\n",
    "* Implement Recurrent PPO using LSTM and compare it with vanilla MLP PPO. (up to 3 points) See: https://iclr-blog-track.github.io/2022/03/25/ppo-implementation-details"
   ]
  },
  {
   "cell_type": "markdown",
   "metadata": {},
   "source": [
    "## RecurrentPolicyModel"
   ]
  },
  {
   "cell_type": "code",
   "execution_count": 170,
   "metadata": {},
   "outputs": [],
   "source": [
    "def layer_init(layer: nn.Module, std: float = np.sqrt(2), bias_const: float = 0.0) -> nn.Module:\n",
    "    torch.nn.init.orthogonal_(layer.weight, std)\n",
    "    torch.nn.init.constant_(layer.bias, bias_const)\n",
    "    return layer\n",
    "\n",
    "\n",
    "class RecurrentPolicyModel(nn.Module):\n",
    "    def __init__(self, state_dim: int, action_dim: int, hidden_size: int = 64, lstm_hidden_size: int = 64):\n",
    "        super().__init__()\n",
    "        self.hidden_size = hidden_size\n",
    "        self.lstm_hidden_size = lstm_hidden_size\n",
    "        self.state_dim = state_dim\n",
    "        self.action_dim = action_dim\n",
    "        \n",
    "        self.feature_extractor = nn.Sequential(\n",
    "            layer_init(nn.Linear(state_dim, self.hidden_size)),\n",
    "            nn.Tanh(),\n",
    "            layer_init(nn.Linear(self.hidden_size, self.hidden_size)),\n",
    "            nn.Tanh(),\n",
    "        )\n",
    "        \n",
    "        self.lstm = nn.LSTM(self.hidden_size, self.lstm_hidden_size)\n",
    "        self._init_lstm_weights()\n",
    "        \n",
    "        self.actor_head = layer_init(nn.Linear(self.lstm_hidden_size, 2 * action_dim), std=0.01)\n",
    "        self.critic_head = layer_init(nn.Linear(self.lstm_hidden_size, 1), std=1.0)\n",
    "\n",
    "    def _init_lstm_weights(self) -> None:\n",
    "        for name, param in self.lstm.named_parameters():\n",
    "            if \"bias\" in name:\n",
    "                nn.init.constant_(param, 0)\n",
    "            elif \"weight\" in name:\n",
    "                nn.init.orthogonal_(param, 1.0)\n",
    "\n",
    "    def get_states(self, x: torch.Tensor, lstm_state: Tuple[torch.Tensor, torch.Tensor], \n",
    "                   done: torch.Tensor) -> Tuple[torch.Tensor, Tuple[torch.Tensor, torch.Tensor]]:\n",
    "        features = self.feature_extractor(x)\n",
    "        batch_size = features.shape[0]\n",
    "        \n",
    "        features = features.unsqueeze(0)\n",
    "        \n",
    "        h_state, c_state = lstm_state\n",
    "        \n",
    "        if h_state.shape != (1, batch_size, self.lstm_hidden_size):\n",
    "            h_state = h_state.view(1, batch_size, self.lstm_hidden_size)\n",
    "        if c_state.shape != (1, batch_size, self.lstm_hidden_size):\n",
    "            c_state = c_state.view(1, batch_size, self.lstm_hidden_size)\n",
    "        \n",
    "        done_mask = (1.0 - done).view(1, batch_size, 1)\n",
    "        reset_lstm_state = (\n",
    "            done_mask * h_state,\n",
    "            done_mask * c_state\n",
    "        )\n",
    "        \n",
    "        output, new_lstm_state = self.lstm(features, reset_lstm_state)\n",
    "        hidden = output.squeeze(0)\n",
    "        \n",
    "        return hidden, new_lstm_state\n",
    "\n",
    "    def forward(self, x: torch.Tensor, lstm_state: Tuple[torch.Tensor, torch.Tensor], \n",
    "                done: torch.Tensor) -> Tuple[Tuple[torch.Tensor, torch.Tensor], torch.Tensor, Tuple[torch.Tensor, torch.Tensor]]:\n",
    "        hidden, new_lstm_state = self.get_states(x, lstm_state, done)\n",
    "        \n",
    "        policy_output = self.actor_head(hidden)\n",
    "        mean, std_raw = policy_output.chunk(2, dim=-1)\n",
    "        var = F.softplus(std_raw) + 1e-8\n",
    "        \n",
    "        value = self.critic_head(hidden)\n",
    "        \n",
    "        return (mean, var), value, new_lstm_state\n",
    "\n",
    "    def init_hidden_state(self, batch_size: int, device: torch.device) -> Tuple[torch.Tensor, torch.Tensor]:\n",
    "        h0 = torch.zeros(1, batch_size, self.lstm_hidden_size, device=device)\n",
    "        c0 = torch.zeros(1, batch_size, self.lstm_hidden_size, device=device)\n",
    "        return (h0, c0)"
   ]
  },
  {
   "cell_type": "markdown",
   "metadata": {},
   "source": [
    "## RecurrentPolicy"
   ]
  },
  {
   "cell_type": "code",
   "execution_count": 171,
   "metadata": {},
   "outputs": [],
   "source": [
    "class RecurrentPolicy:\n",
    "    def __init__(self, model: torch.nn.Module, device: Optional[torch.device] = None) -> None:\n",
    "        self.model = model\n",
    "        self.device = device or torch.device(\"cuda\" if torch.cuda.is_available() else \"cpu\")\n",
    "        self.model.to(self.device)\n",
    "        self._lstm_state: Optional[Tuple[torch.Tensor, torch.Tensor]] = None\n",
    "        self._batch_size: int = 1\n",
    "        \n",
    "    def reset(self, batch_size: int = 1) -> None:\n",
    "        self._batch_size = batch_size\n",
    "        self._lstm_state = self.model.init_hidden_state(batch_size, self.device)\n",
    "        \n",
    "    def _ensure_lstm_state(self, batch_size: int) -> None:\n",
    "        if self._lstm_state is None or self._lstm_state[0].shape[1] != batch_size:\n",
    "            self.reset(batch_size)\n",
    "    \n",
    "    def act(\n",
    "        self, \n",
    "        inputs: Union[torch.Tensor, np.ndarray], \n",
    "        lstm_state: Optional[Tuple[torch.Tensor, torch.Tensor]] = None,\n",
    "        done: Optional[Union[torch.Tensor, np.ndarray, bool]] = None,\n",
    "        training: bool = False\n",
    "    ) -> Dict[str, Any]:\n",
    "        inputs = self._prepare_tensor(inputs)\n",
    "        batch_size = inputs.shape[0]\n",
    "        \n",
    "        if lstm_state is None:\n",
    "            self._ensure_lstm_state(batch_size)\n",
    "            lstm_state = self._lstm_state\n",
    "            \n",
    "        if done is None:\n",
    "            done = torch.zeros(batch_size, dtype=torch.float32, device=self.device)\n",
    "        else:\n",
    "            done = self._prepare_done_tensor(done, batch_size)\n",
    "        \n",
    "        with torch.set_grad_enabled(training):\n",
    "            (mean, var), values, new_lstm_state = self.model(inputs, lstm_state, done)\n",
    "            \n",
    "        self._lstm_state = new_lstm_state\n",
    "        \n",
    "        distribution = self._create_distribution(mean, var)\n",
    "        actions = distribution.sample()\n",
    "        log_probs = distribution.log_prob(actions)\n",
    "        \n",
    "        if training:\n",
    "            return {\n",
    "                \"distribution\": distribution,\n",
    "                \"values\": values.squeeze(-1),\n",
    "                \"lstm_state\": new_lstm_state,\n",
    "                \"actions\": actions,\n",
    "                \"log_probs\": log_probs\n",
    "            }\n",
    "        \n",
    "        return {\n",
    "            \"actions\": self._to_numpy(actions),\n",
    "            \"log_probs\": self._to_numpy(log_probs),\n",
    "            \"values\": self._to_numpy(values.squeeze(-1)),\n",
    "            \"lstm_state\": new_lstm_state\n",
    "        }\n",
    "    \n",
    "    def evaluate_actions(\n",
    "        self,\n",
    "        inputs: torch.Tensor,\n",
    "        actions: torch.Tensor,\n",
    "        lstm_states: Tuple[torch.Tensor, torch.Tensor],\n",
    "        dones: torch.Tensor\n",
    "    ) -> Tuple[torch.Tensor, torch.Tensor, torch.Tensor, Tuple[torch.Tensor, torch.Tensor]]:\n",
    "        (mean, var), values, new_lstm_state = self.model(inputs, lstm_states, dones)\n",
    "        distribution = self._create_distribution(mean, var)\n",
    "        \n",
    "        log_probs = distribution.log_prob(actions)\n",
    "        entropy = distribution.entropy()\n",
    "        \n",
    "        return log_probs, entropy, values.squeeze(-1), new_lstm_state\n",
    "    \n",
    "    def _prepare_tensor(self, data: Union[torch.Tensor, np.ndarray]) -> torch.Tensor:\n",
    "        if isinstance(data, np.ndarray):\n",
    "            data = torch.from_numpy(data)\n",
    "        if data.ndim == 1:\n",
    "            data = data.unsqueeze(0)\n",
    "        return data.float().to(self.device)\n",
    "    \n",
    "    def _prepare_done_tensor(self, done: Union[torch.Tensor, np.ndarray, bool], batch_size: int) -> torch.Tensor:\n",
    "        if isinstance(done, bool):\n",
    "            done = torch.full((batch_size,), done, dtype=torch.float32, device=self.device)\n",
    "        elif isinstance(done, np.ndarray):\n",
    "            done = torch.from_numpy(done).float().to(self.device)\n",
    "        else:\n",
    "            done = done.float().to(self.device)\n",
    "        \n",
    "        if done.ndim == 0:\n",
    "            done = done.unsqueeze(0)\n",
    "        return done\n",
    "    \n",
    "    def _create_distribution(self, mean: torch.Tensor, var: torch.Tensor) -> MultivariateNormal:\n",
    "        cov_matrix = torch.diag_embed(var.clamp(min=1e-8))\n",
    "        return MultivariateNormal(mean, cov_matrix)\n",
    "    \n",
    "    def _to_numpy(self, tensor: torch.Tensor) -> np.ndarray:\n",
    "        return tensor.detach().cpu().numpy()"
   ]
  },
  {
   "cell_type": "markdown",
   "metadata": {},
   "source": [
    "## RecurrentEnvRunner"
   ]
  },
  {
   "cell_type": "code",
   "execution_count": 172,
   "metadata": {},
   "outputs": [],
   "source": [
    "class RecurrentEnvRunner:\n",
    "    def __init__(self, env, policy, rollout_length: int, transforms: Optional[List] = None, step_var: Optional[int] = None):\n",
    "        self.env = env\n",
    "        self.policy = policy\n",
    "        self.rollout_length = rollout_length\n",
    "        self.transforms = transforms or []\n",
    "        self.step_var = step_var if step_var is not None else 0\n",
    "        self.state = {\"latest_observation\": self.env.reset()[0]}\n",
    "        self._initialize_policy()\n",
    "        \n",
    "    def _initialize_policy(self) -> None:\n",
    "        batch_size = self.num_envs or 1\n",
    "        self.policy.reset(batch_size)\n",
    "        \n",
    "    @property\n",
    "    def num_envs(self) -> Optional[int]:\n",
    "        return getattr(self.env, \"num_envs\", None)\n",
    "\n",
    "    def reset(self, **kwargs) -> None:\n",
    "        self.state[\"latest_observation\"], info = self.env.reset(**kwargs)\n",
    "        batch_size = self.num_envs or 1\n",
    "        self.policy.reset(batch_size)\n",
    "\n",
    "    def get_next(self) -> Dict[str, Any]:\n",
    "        trajectory = defaultdict(list)\n",
    "        observations = []\n",
    "        rewards = []\n",
    "        resets = []\n",
    "        lstm_states_h = []\n",
    "        lstm_states_c = []\n",
    "        \n",
    "        self.state[\"env_steps\"] = self.rollout_length\n",
    "        batch_size = self.num_envs or 1\n",
    "        lstm_hidden_size = self.policy.model.lstm_hidden_size\n",
    "\n",
    "        for i in range(self.rollout_length):\n",
    "            observations.append(self.state[\"latest_observation\"])\n",
    "            \n",
    "            current_lstm_state = self.policy._lstm_state\n",
    "            h_state = current_lstm_state[0].squeeze(0).detach().cpu().numpy()\n",
    "            c_state = current_lstm_state[1].squeeze(0).detach().cpu().numpy()\n",
    "            \n",
    "            if h_state.shape != (batch_size, lstm_hidden_size):\n",
    "                h_state = h_state[:batch_size, :lstm_hidden_size]\n",
    "            if c_state.shape != (batch_size, lstm_hidden_size):\n",
    "                c_state = c_state[:batch_size, :lstm_hidden_size]\n",
    "            \n",
    "            lstm_states_h.append(h_state)\n",
    "            lstm_states_c.append(c_state)\n",
    "            \n",
    "            act = self.policy.act(self.state[\"latest_observation\"])\n",
    "            if \"actions\" not in act:\n",
    "                raise ValueError(\n",
    "                    f\"result of policy.act must contain 'actions' but has keys {list(act.keys())}\"\n",
    "                )\n",
    "            \n",
    "            for key, val in act.items():\n",
    "                if key != \"lstm_state\":\n",
    "                    trajectory[key].append(val)\n",
    "\n",
    "            obs, rew, terminated, truncated, _ = self.env.step(trajectory[\"actions\"][-1])\n",
    "            done = np.logical_or(terminated, truncated)\n",
    "            \n",
    "            self.state[\"latest_observation\"] = obs\n",
    "            rewards.append(rew)\n",
    "            resets.append(done)\n",
    "            self.step_var += self.num_envs or 1\n",
    "\n",
    "            if not self.num_envs and np.all(done):\n",
    "                self.state[\"env_steps\"] = i + 1\n",
    "                self.state[\"latest_observation\"] = self.env.reset()[0]\n",
    "                self.policy.reset(1)\n",
    "\n",
    "        lstm_states_h = np.stack(lstm_states_h, axis=0)\n",
    "        lstm_states_c = np.stack(lstm_states_c, axis=0)\n",
    "        \n",
    "        trajectory.update(\n",
    "            observations=observations, \n",
    "            rewards=rewards, \n",
    "            resets=resets,\n",
    "            lstm_states_h=lstm_states_h,\n",
    "            lstm_states_c=lstm_states_c\n",
    "        )\n",
    "        trajectory[\"state\"] = self.state\n",
    "\n",
    "        for transform in self.transforms:\n",
    "            transform(trajectory)\n",
    "        return trajectory"
   ]
  },
  {
   "cell_type": "markdown",
   "metadata": {},
   "source": [
    "## RecurrentGAE"
   ]
  },
  {
   "cell_type": "code",
   "execution_count": 173,
   "metadata": {},
   "outputs": [],
   "source": [
    "class RecurrentGAE:\n",
    "    def __init__(self, policy, gamma: float = 0.99, lambda_: float = 0.95):\n",
    "        self.policy = policy\n",
    "        self.gamma = gamma\n",
    "        self.lambda_ = lambda_\n",
    "\n",
    "    def __call__(self, trajectory: Dict[str, Any]) -> None:\n",
    "        gamma = self.gamma\n",
    "        lambda_ = self.lambda_\n",
    "\n",
    "        latest_obs = trajectory[\"state\"][\"latest_observation\"]\n",
    "        \n",
    "        if latest_obs.ndim == 1:\n",
    "            latest_obs_batch = np.expand_dims(latest_obs, axis=0)\n",
    "        else:\n",
    "            latest_obs_batch = latest_obs\n",
    "        \n",
    "        last_value_prediction = self.policy.act(latest_obs_batch, training=False)[\"values\"]\n",
    "        \n",
    "        if last_value_prediction.ndim == 0:\n",
    "            last_value_prediction = np.array([[last_value_prediction]])\n",
    "        elif last_value_prediction.ndim == 1:\n",
    "            last_value_prediction = np.expand_dims(last_value_prediction, axis=0)\n",
    "        \n",
    "        all_values = np.concatenate([trajectory[\"values\"], last_value_prediction], axis=0)\n",
    "        rewards = trajectory[\"rewards\"]\n",
    "        resets = trajectory[\"resets\"]\n",
    "\n",
    "        if rewards.ndim == 1:\n",
    "            rewards = rewards[:, np.newaxis]\n",
    "        if resets.ndim == 1:\n",
    "            resets = resets[:, np.newaxis]\n",
    "        \n",
    "        rollout_length = rewards.shape[0]\n",
    "        num_envs = rewards.shape[1]\n",
    "        advantages = np.zeros_like(rewards, dtype=np.float32)\n",
    "        last_gae_advantage = np.zeros(num_envs, dtype=np.float32)\n",
    "\n",
    "        for t in reversed(range(rollout_length)):\n",
    "            delta = rewards[t] + gamma * all_values[t + 1] * (1 - resets[t]) - all_values[t]\n",
    "            advantages[t] = delta + gamma * lambda_ * last_gae_advantage * (1 - resets[t])\n",
    "            last_gae_advantage = advantages[t]\n",
    "\n",
    "        value_targets = advantages + all_values[:-1]\n",
    "        \n",
    "        trajectory[\"advantages\"] = advantages\n",
    "        trajectory[\"value_targets\"] = value_targets"
   ]
  },
  {
   "cell_type": "markdown",
   "metadata": {},
   "source": [
    "## RecurrentTrajectorySampler"
   ]
  },
  {
   "cell_type": "code",
   "execution_count": 174,
   "metadata": {},
   "outputs": [],
   "source": [
    "from typing import List\n",
    "\n",
    "\n",
    "def flatten_first_two_dims(arr: np.ndarray) -> np.ndarray:\n",
    "    if arr.ndim == 2:\n",
    "        return arr.reshape(-1)\n",
    "    return arr.reshape(arr.shape[0] * arr.shape[1], *arr.shape[2:])\n",
    "\n",
    "\n",
    "class RecurrentTrajectorySampler:\n",
    "    def __init__(self, runner, num_epochs: int, num_minibatches: int, transforms: Optional[List] = None):\n",
    "        self.runner = runner\n",
    "        self.num_epochs = num_epochs\n",
    "        self.num_minibatches = num_minibatches\n",
    "        self.transforms = transforms or []\n",
    "        self.minibatch_count = 0\n",
    "        self.epoch_count = 0\n",
    "        self.trajectory: Optional[Dict[str, Any]] = None\n",
    "\n",
    "    def shuffle_trajectory(self) -> None:\n",
    "        trajectory_len = self.trajectory[\"observations\"].shape[0]\n",
    "        permutation = np.random.permutation(trajectory_len)\n",
    "        \n",
    "        for key, value in self.trajectory.items():\n",
    "            if key != \"state\":\n",
    "                self.trajectory[key] = value[permutation]\n",
    "\n",
    "    def squeeze_trajectory(self) -> None:\n",
    "        lstm_keys = {\"lstm_states_h\", \"lstm_states_c\"}\n",
    "        \n",
    "        for key, value in self.trajectory.items():\n",
    "            if key == \"state\":\n",
    "                continue\n",
    "            elif key in lstm_keys:\n",
    "                self.trajectory[key] = flatten_first_two_dims(value)\n",
    "            else:\n",
    "                self.trajectory[key] = flatten_first_two_dims(value)\n",
    "\n",
    "    def get_trajectory(self) -> None:\n",
    "        self.trajectory = self.runner.get_next()\n",
    "        self.squeeze_trajectory()\n",
    "\n",
    "    def get_next(self) -> Dict[str, Any]:\n",
    "        if not self.trajectory:\n",
    "            self.get_trajectory()\n",
    "\n",
    "        if self.minibatch_count == self.num_minibatches:\n",
    "            self.shuffle_trajectory()\n",
    "            self.minibatch_count = 0\n",
    "            self.epoch_count += 1\n",
    "\n",
    "        if self.epoch_count == self.num_epochs:\n",
    "            self.get_trajectory()\n",
    "            self.shuffle_trajectory()\n",
    "            self.minibatch_count = 0\n",
    "            self.epoch_count = 0\n",
    "\n",
    "        trajectory_len = self.trajectory[\"observations\"].shape[0]\n",
    "        batch_size = trajectory_len // self.num_minibatches\n",
    "\n",
    "        minibatch = {}\n",
    "        for key, value in self.trajectory.items():\n",
    "            if key != \"state\":\n",
    "                start_idx = self.minibatch_count * batch_size\n",
    "                end_idx = (self.minibatch_count + 1) * batch_size\n",
    "                minibatch[key] = value[start_idx:end_idx]\n",
    "\n",
    "        self.minibatch_count += 1\n",
    "\n",
    "        for transform in self.transforms:\n",
    "            transform(minibatch)\n",
    "\n",
    "        return minibatch\n",
    "\n",
    "\n",
    "class NormalizeAdvantages:\n",
    "    def __call__(self, trajectory: Dict[str, Any]) -> None:\n",
    "        advantages = trajectory[\"advantages\"]\n",
    "        mean = np.mean(advantages)\n",
    "        std = np.std(advantages) + np.finfo(advantages.dtype).eps\n",
    "        trajectory[\"advantages\"] = (advantages - mean) / std\n",
    "\n",
    "\n",
    "class AsArray:\n",
    "    def __call__(self, trajectory: Dict[str, Any]) -> None:\n",
    "        lstm_keys = {\"state\", \"lstm_states_h\", \"lstm_states_c\"}\n",
    "        \n",
    "        for k, v in filter(lambda kv: kv[0] not in lstm_keys, trajectory.items()):\n",
    "            trajectory[k] = np.asarray(v)"
   ]
  },
  {
   "cell_type": "markdown",
   "metadata": {},
   "source": [
    "## RecurrentPPO"
   ]
  },
  {
   "cell_type": "code",
   "execution_count": 175,
   "metadata": {},
   "outputs": [],
   "source": [
    "class RecurrentPPO:\n",
    "    def __init__(\n",
    "        self, \n",
    "        policy, \n",
    "        optimizer, \n",
    "        cliprange: float = 0.2, \n",
    "        value_loss_coef: float = 0.25, \n",
    "        max_grad_norm: float = 0.5\n",
    "    ):\n",
    "        self.policy = policy\n",
    "        self.optimizer = optimizer\n",
    "        self.cliprange = cliprange\n",
    "        self.value_loss_coef = value_loss_coef\n",
    "        self.max_grad_norm = max_grad_norm\n",
    "        self.device = \"cuda\" if torch.cuda.is_available() else \"cpu\"\n",
    "\n",
    "    def policy_loss(self, trajectory: Dict[str, Any], act: Dict[str, Any]) -> torch.Tensor:\n",
    "        current_distribution = act[\"distribution\"]\n",
    "        old_log_probs = torch.tensor(trajectory[\"log_probs\"], dtype=torch.float32, device=self.device)\n",
    "        advantages = torch.tensor(trajectory[\"advantages\"], dtype=torch.float32, device=self.device)\n",
    "        old_actions = torch.tensor(trajectory[\"actions\"], dtype=torch.float32, device=self.device)\n",
    "        \n",
    "        log_probs = current_distribution.log_prob(old_actions)\n",
    "        ratio = torch.exp(log_probs - old_log_probs)\n",
    "        j_pi = ratio * advantages\n",
    "        j_pi_clipped = torch.clamp(ratio, 1 - self.cliprange, 1 + self.cliprange) * advantages\n",
    "        policy_loss = -torch.mean(torch.min(j_pi, j_pi_clipped))\n",
    "        return policy_loss\n",
    "\n",
    "    def value_loss(self, trajectory: Dict[str, Any], act: Dict[str, Any]) -> torch.Tensor:\n",
    "        current_values = act[\"values\"]\n",
    "        value_targets = torch.tensor(trajectory[\"value_targets\"], dtype=torch.float32, device=self.device)\n",
    "        old_values = torch.tensor(trajectory[\"values\"], dtype=torch.float32, device=self.device)\n",
    "        \n",
    "        l_simple = (current_values - value_targets).pow(2)\n",
    "        value_diff = current_values - old_values\n",
    "        clipped_value_diff = torch.clamp(value_diff, -self.cliprange, self.cliprange)\n",
    "        l_clipped = (old_values + clipped_value_diff - value_targets).pow(2)\n",
    "        value_loss = torch.mean(torch.max(l_simple, l_clipped))\n",
    "        return value_loss\n",
    "\n",
    "    def loss(self, trajectory: Dict[str, Any]) -> Tuple[torch.Tensor, torch.Tensor, torch.Tensor]:\n",
    "        observations = torch.tensor(trajectory[\"observations\"], dtype=torch.float32, device=self.device)\n",
    "        \n",
    "        h_states = torch.tensor(trajectory[\"lstm_states_h\"], dtype=torch.float32, device=self.device)\n",
    "        c_states = torch.tensor(trajectory[\"lstm_states_c\"], dtype=torch.float32, device=self.device)\n",
    "        \n",
    "        batch_size = observations.shape[0]\n",
    "        lstm_hidden_size = h_states.shape[1]\n",
    "        \n",
    "        h_states = h_states.view(1, batch_size, lstm_hidden_size)\n",
    "        c_states = c_states.view(1, batch_size, lstm_hidden_size)\n",
    "        lstm_states = (h_states, c_states)\n",
    "        \n",
    "        dones = torch.tensor(trajectory[\"resets\"], dtype=torch.float32, device=self.device)\n",
    "        \n",
    "        act = self.policy.act(observations, lstm_states, dones, training=True)\n",
    "        p_loss = self.policy_loss(trajectory, act)\n",
    "        v_loss = self.value_loss(trajectory, act)\n",
    "        total_loss = p_loss + self.value_loss_coef * v_loss\n",
    "        return total_loss, p_loss, v_loss\n",
    "\n",
    "    def step(self, trajectory: Dict[str, Any]) -> Dict[str, float]:\n",
    "        self.optimizer.zero_grad()\n",
    "        total_loss, p_loss, v_loss = self.loss(trajectory)\n",
    "        total_loss.backward()\n",
    "        nn.utils.clip_grad_norm_(self.policy.model.parameters(), self.max_grad_norm)\n",
    "        self.optimizer.step()\n",
    "        return {\n",
    "            \"total_loss\": total_loss.item(),\n",
    "            \"policy_loss\": p_loss.item(),\n",
    "            \"value_loss\": v_loss.item(),\n",
    "        }"
   ]
  },
  {
   "cell_type": "markdown",
   "metadata": {},
   "source": [
    "## make_recurrent_ppo_smpler"
   ]
  },
  {
   "cell_type": "code",
   "execution_count": 176,
   "metadata": {},
   "outputs": [],
   "source": [
    "def make_recurrent_ppo_sampler(\n",
    "    env,\n",
    "    policy,\n",
    "    num_runner_steps: int = 2048,\n",
    "    gamma: float = 0.99,\n",
    "    lambda_: float = 0.95,\n",
    "    num_epochs: int = 10,\n",
    "    num_minibatches: int = 32,\n",
    "):\n",
    "    runner_transforms = [AsArray(), RecurrentGAE(policy, gamma=gamma, lambda_=lambda_)]\n",
    "    runner = RecurrentEnvRunner(env, policy, num_runner_steps, transforms=runner_transforms)\n",
    "\n",
    "    sampler_transforms = [NormalizeAdvantages()]\n",
    "    sampler = RecurrentTrajectorySampler(\n",
    "        runner,\n",
    "        num_epochs=num_epochs,\n",
    "        num_minibatches=num_minibatches,\n",
    "        transforms=sampler_transforms,\n",
    "    )\n",
    "    return sampler"
   ]
  },
  {
   "cell_type": "markdown",
   "metadata": {},
   "source": [
    "## Обучаем"
   ]
  },
  {
   "cell_type": "code",
   "execution_count": 177,
   "metadata": {},
   "outputs": [],
   "source": [
    "state_dim = vec_env.single_observation_space.shape[0]\n",
    "action_dim = vec_env.single_action_space.shape[0]\n",
    "\n",
    "model = RecurrentPolicyModel(state_dim, action_dim)\n",
    "model = model.cuda()\n",
    "\n",
    "policy = RecurrentPolicy(model)\n",
    "\n",
    "num_envs = 50\n",
    "vec_env = make_vec_env(num_envs=num_envs)\n",
    "sampler = make_recurrent_ppo_sampler(vec_env, policy)\n",
    "\n",
    "optimizer = torch.optim.Adam(policy.model.parameters(), lr=2.5e-4, eps=1e-5)\n",
    "n_iter = 250000\n",
    "\n",
    "lr_mult = lambda epoch: (1 - (epoch / n_iter))\n",
    "sched = torch.optim.lr_scheduler.LambdaLR(optimizer, lr_mult)\n",
    "\n",
    "ppo = RecurrentPPO(policy, optimizer)"
   ]
  },
  {
   "cell_type": "code",
   "execution_count": 178,
   "metadata": {},
   "outputs": [
    {
     "data": {
      "image/png": "[encoded data removed]",
      "text/plain": [
       "<Figure size 640x480 with 1 Axes>"
      ]
     },
     "metadata": {},
     "output_type": "display_data"
    },
    {
     "name": "stderr",
     "output_type": "stream",
     "text": [
      "100%|█████████████████████████████████████████████████████████████████| 250000/250000 [2:20:49<00:00, 29.59it/s]\n"
     ]
    }
   ],
   "source": [
    "steps = []\n",
    "rewards = []\n",
    "\n",
    "for i in tqdm(range(n_iter)):\n",
    "    trajectory = sampler.get_next()\n",
    "\n",
    "    if (i + 1) % 100 == 0:\n",
    "        clear_output(True)\n",
    "        rewards.append(vec_env.env.env.env.return_queue[-1])\n",
    "        steps.append(sampler.runner.step_var)\n",
    "        \n",
    "        plt.plot(steps, rewards, label=\"episode rewards\")\n",
    "        plt.title(\"Reward\")\n",
    "        plt.xlabel(\"Total steps\")\n",
    "        plt.ylabel(\"Reward\")\n",
    "        plt.grid()\n",
    "        plt.show()\n",
    "\n",
    "    ppo.step(trajectory)\n",
    "    sched.step()"
   ]
  },
  {
   "cell_type": "code",
   "execution_count": 179,
   "metadata": {},
   "outputs": [
    {
     "name": "stdout",
     "output_type": "stream",
     "text": [
      "Оценка модели на 5 эпизодах:\n",
      "Средняя награда: 7736.40 ± 100.46\n"
     ]
    }
   ],
   "source": [
    "evaluate_model_without_rendering(\n",
    "    policy=policy,\n",
    "    env_id=\"HalfCheetah-v5\",\n",
    "    vec_env_normalizer=vec_env.env.env.obs_rms,\n",
    "    num_episodes=5,\n",
    "    max_steps=1000\n",
    ")"
   ]
  },
  {
   "cell_type": "markdown",
   "metadata": {},
   "source": [
    "# Рекуррентный вариант получился лучше по средней награде за то же количество итерраций обучения"
   ]
  }
 ],
 "metadata": {
  "accelerator": "GPU",
  "colab": {
   "provenance": []
  },
  "kernelspec": {
   "display_name": "Python 3 (ipykernel)",
   "language": "python",
   "name": "python3"
  },
  "language_info": {
   "codemirror_mode": {
    "name": "ipython",
    "version": 3
   },
   "file_extension": ".py",
   "mimetype": "text/x-python",
   "name": "python",
   "nbconvert_exporter": "python",
   "pygments_lexer": "ipython3",
   "version": "3.10.12"
  }
 },
 "nbformat": 4,
 "nbformat_minor": 4
}
